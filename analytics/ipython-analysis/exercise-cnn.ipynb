{
 "cells": [
  {
   "cell_type": "markdown",
   "metadata": {},
   "source": [
    "# CNN Experiments on muvr data\n",
    "\n",
    "First we need to setup the environment and import all the necessary stuff."
   ]
  },
  {
   "cell_type": "code",
   "execution_count": 1,
   "metadata": {
    "collapsed": true
   },
   "outputs": [],
   "source": [
    "%matplotlib inline\n",
    "\n",
    "import logging\n",
    "\n",
    "logging.basicConfig(level=10)\n",
    "logger = logging.getLogger()\n",
    "\n",
    "import shutil\n",
    "from os import remove\n",
    "import cPickle as pkl\n",
    "from os.path import expanduser, exists"
   ]
  },
  {
   "cell_type": "markdown",
   "metadata": {},
   "source": [
    "This time we are not going to generate the data but rather use real world annotated training examples."
   ]
  },
  {
   "cell_type": "code",
   "execution_count": 2,
   "metadata": {
    "collapsed": false
   },
   "outputs": [
    {
     "name": "stdout",
     "output_type": "stream",
     "text": [
      "Number of training examples: 22579\n",
      "Number of test examples: 5503\n",
      "Number of features: 1200\n",
      "Number of labels: 29\n"
     ]
    }
   ],
   "source": [
    "# Dataset creation\n",
    "\n",
    "import numpy as np\n",
    "import math\n",
    "import random\n",
    "import csv\n",
    "from neon.datasets.dataset import Dataset\n",
    "\n",
    "class WorkoutDS(Dataset):\n",
    "    # Number of features per example\n",
    "    feature_count = None\n",
    "\n",
    "    # Number of examples\n",
    "    num_train_examples = None\n",
    "    num_test_examples = None\n",
    "\n",
    "    # Number of classes\n",
    "    num_labels = None\n",
    "    \n",
    "    # Indicator if the data has been loaded yet\n",
    "    initialized = False\n",
    "    \n",
    "    # Mapping of integer class labels to strings\n",
    "    human_labels = {}\n",
    "    \n",
    "    def human_label_for(self, id):\n",
    "        return self.human_labels[id]\n",
    "    \n",
    "    # Convert an integer representation to a one-hot-vector\n",
    "    def as_one_hot(self, i, n):\n",
    "        v = np.zeros(n)\n",
    "        v[i] = 1\n",
    "        return v\n",
    "    \n",
    "    # Convert an one-hot-vector to an integer representation\n",
    "    def as_int_rep(self, oh):\n",
    "        return np.where(oh == 1)[0][0]\n",
    "    \n",
    "    # Loads a label mapping from file. The file should contain a CSV tabel mapping integer labels to human readable\n",
    "    # labels. Integer class labels should start with 1\n",
    "    def load_label_mapping(self, filename):\n",
    "        with open(expanduser(filename), 'rb') as csvfile:\n",
    "            dialect = csv.Sniffer().sniff(csvfile.read(1024))\n",
    "            csvfile.seek(0)\n",
    "            csv_data = csv.reader(csvfile, dialect)\n",
    "            next(csv_data, None)  # skip the headers\n",
    "            label_mapping = {}\n",
    "            for row in csv_data:\n",
    "                # We need to offset the labels by one since counting starts at 0 in python...\n",
    "                label_mapping[int(row[0]) - 1] = row[1]\n",
    "        return label_mapping\n",
    "                \n",
    "    # Load examples from given CSV file. The dataset should already be splitted into test and train externally\n",
    "    def load_examples(self, filename):\n",
    "        with open(expanduser(filename), 'rb') as csvfile:\n",
    "            dialect = csv.Sniffer().sniff(csvfile.read(1024))\n",
    "            csvfile.seek(0)\n",
    "            csv_data = csv.reader(csvfile, dialect)\n",
    "            next(csv_data, None)  # skip the headers\n",
    "            y = []\n",
    "            X = []\n",
    "            for row in csv_data:\n",
    "                label = int(row[2]) - 1\n",
    "                y.append(self.as_one_hot(label, self.num_labels))\n",
    "                X.append(map(int, row[3:]))\n",
    "                \n",
    "            X = np.reshape(np.asarray(X, dtype = float), (len(X), len(X[0])))  \n",
    "            y = np.reshape(np.asarray(y, dtype = float), (X.shape[0], self.num_labels))\n",
    "            \n",
    "            return X,y\n",
    "    \n",
    "    # Load label mapping and train / test data from disk.\n",
    "    def initialize(self):\n",
    "        logger.info(\"Loading DS from files...\")\n",
    "        self.human_labels = self.load_label_mapping(expanduser('~/data/labeled_exercise_data_f400_LABELS.csv'))\n",
    "        self.num_labels = len(self.human_labels)\n",
    "        \n",
    "        X_train, y_train = self.load_examples(expanduser('~/data/labeled_exercise_data_f400_TRAIN.csv'))\n",
    "        X_test, y_test = self.load_examples(expanduser('~/data/labeled_exercise_data_f400_TEST.csv'))\n",
    "        \n",
    "        self.num_train_examples = X_train.shape[0]\n",
    "        self.num_test_examples = X_test.shape[0]\n",
    "        self.feature_count = X_train.shape[1]\n",
    "        self.X_train = X_train\n",
    "        self.y_train = y_train\n",
    "        self.X_test = X_test\n",
    "        self.y_test = y_test\n",
    "        self.initialized = True\n",
    "\n",
    "    # Get the dataset ready for Neon training\n",
    "    def load(self, **kwargs):\n",
    "        if not self.initialized:\n",
    "            self.initialize()\n",
    "\n",
    "        # Assign training and test datasets\n",
    "        # INFO: This assumes the data is already shuffeled! Make sure it is!\n",
    "        self.inputs['train'] = self.X_train\n",
    "        self.targets['train'] = self.y_train\n",
    "\n",
    "        self.inputs['test'] =  self.X_test\n",
    "        self.targets['test'] = self.y_test\n",
    "\n",
    "        self.format()\n",
    "        \n",
    "dataset = WorkoutDS()\n",
    "dataset.initialize()\n",
    "print \"Number of training examples:\", dataset.num_train_examples\n",
    "print \"Number of test examples:\", dataset.num_test_examples\n",
    "print \"Number of features:\", dataset.feature_count\n",
    "print \"Number of labels:\", dataset.num_labels"
   ]
  },
  {
   "cell_type": "markdown",
   "metadata": {},
   "source": [
    "At first we want to inspect the class distribution of the training and test examples."
   ]
  },
  {
   "cell_type": "code",
   "execution_count": 4,
   "metadata": {
    "collapsed": false
   },
   "outputs": [
    {
     "data": {
      "text/html": [
       "<table border=\"1\" cellpadding=\"3\" cellspacing=\"0\"  style=\"border:1px solid black;border-collapse:collapse;\"><tr><td  style=\"text-align:left;\"></td><td  style=\"text-align:center;\">Train</td><td  style=\"text-align:center;\">Train&nbsp%</td><td  style=\"text-align:center;\">Test</td><td  style=\"text-align:center;\">Test&nbsp%</td></tr><tr><td  style=\"text-align:left;\">dumbbell-biceps-curl</td><td  style=\"text-align:center;\">0</td><td  style=\"text-align:center;\">0.00%</td><td  style=\"text-align:center;\">141</td><td  style=\"text-align:center;\">0.03%</td></tr><tr><td  style=\"text-align:left;\">rope-biceps-curl</td><td  style=\"text-align:center;\">74</td><td  style=\"text-align:center;\">0.00%</td><td  style=\"text-align:center;\">1</td><td  style=\"text-align:center;\">0.00%</td></tr><tr><td  style=\"text-align:left;\">barbell-pullup</td><td  style=\"text-align:center;\">136</td><td  style=\"text-align:center;\">0.01%</td><td  style=\"text-align:center;\">68</td><td  style=\"text-align:center;\">0.01%</td></tr><tr><td  style=\"text-align:left;\">straight-bar-triceps-extension</td><td  style=\"text-align:center;\">196</td><td  style=\"text-align:center;\">0.01%</td><td  style=\"text-align:center;\">1</td><td  style=\"text-align:center;\">0.00%</td></tr><tr><td  style=\"text-align:left;\">side-dips</td><td  style=\"text-align:center;\">257</td><td  style=\"text-align:center;\">0.01%</td><td  style=\"text-align:center;\">117</td><td  style=\"text-align:center;\">0.02%</td></tr><tr><td  style=\"text-align:left;\">alt-dumbbell-biceps-curl</td><td  style=\"text-align:center;\">319</td><td  style=\"text-align:center;\">0.01%</td><td  style=\"text-align:center;\">265</td><td  style=\"text-align:center;\">0.05%</td></tr><tr><td  style=\"text-align:left;\">dumbbell-row</td><td  style=\"text-align:center;\">348</td><td  style=\"text-align:center;\">0.02%</td><td  style=\"text-align:center;\">1</td><td  style=\"text-align:center;\">0.00%</td></tr><tr><td  style=\"text-align:left;\">barbell-biceps-curl</td><td  style=\"text-align:center;\">356</td><td  style=\"text-align:center;\">0.02%</td><td  style=\"text-align:center;\">55</td><td  style=\"text-align:center;\">0.01%</td></tr><tr><td  style=\"text-align:left;\">dumbbell-front-rise</td><td  style=\"text-align:center;\">379</td><td  style=\"text-align:center;\">0.02%</td><td  style=\"text-align:center;\">95</td><td  style=\"text-align:center;\">0.02%</td></tr><tr><td  style=\"text-align:left;\">lateral-raise</td><td  style=\"text-align:center;\">395</td><td  style=\"text-align:center;\">0.02%</td><td  style=\"text-align:center;\">57</td><td  style=\"text-align:center;\">0.01%</td></tr><tr><td  style=\"text-align:left;\">cable-deltoid-cross-overs</td><td  style=\"text-align:center;\">418</td><td  style=\"text-align:center;\">0.02%</td><td  style=\"text-align:center;\">312</td><td  style=\"text-align:center;\">0.06%</td></tr><tr><td  style=\"text-align:left;\">triceps-dips</td><td  style=\"text-align:center;\">430</td><td  style=\"text-align:center;\">0.02%</td><td  style=\"text-align:center;\">233</td><td  style=\"text-align:center;\">0.04%</td></tr><tr><td  style=\"text-align:left;\">dumbbell-side-rise</td><td  style=\"text-align:center;\">442</td><td  style=\"text-align:center;\">0.02%</td><td  style=\"text-align:center;\">0</td><td  style=\"text-align:center;\">0.00%</td></tr><tr><td  style=\"text-align:left;\">dumbbell-press</td><td  style=\"text-align:center;\">453</td><td  style=\"text-align:center;\">0.02%</td><td  style=\"text-align:center;\">412</td><td  style=\"text-align:center;\">0.07%</td></tr><tr><td  style=\"text-align:left;\">straight-bar-biceps-curl</td><td  style=\"text-align:center;\">528</td><td  style=\"text-align:center;\">0.02%</td><td  style=\"text-align:center;\">373</td><td  style=\"text-align:center;\">0.07%</td></tr><tr><td  style=\"text-align:left;\">rope-triceps-extension</td><td  style=\"text-align:center;\">621</td><td  style=\"text-align:center;\">0.03%</td><td  style=\"text-align:center;\">148</td><td  style=\"text-align:center;\">0.03%</td></tr><tr><td  style=\"text-align:left;\">barbell-press</td><td  style=\"text-align:center;\">775</td><td  style=\"text-align:center;\">0.03%</td><td  style=\"text-align:center;\">252</td><td  style=\"text-align:center;\">0.05%</td></tr><tr><td  style=\"text-align:left;\">lat-pulldown-straight</td><td  style=\"text-align:center;\">807</td><td  style=\"text-align:center;\">0.04%</td><td  style=\"text-align:center;\">172</td><td  style=\"text-align:center;\">0.03%</td></tr><tr><td  style=\"text-align:left;\">lat-pulldown-angled</td><td  style=\"text-align:center;\">828</td><td  style=\"text-align:center;\">0.04%</td><td  style=\"text-align:center;\">200</td><td  style=\"text-align:center;\">0.04%</td></tr><tr><td  style=\"text-align:left;\">deltoid-row</td><td  style=\"text-align:center;\">831</td><td  style=\"text-align:center;\">0.04%</td><td  style=\"text-align:center;\">0</td><td  style=\"text-align:center;\">0.00%</td></tr><tr><td  style=\"text-align:left;\">overhead-pull</td><td  style=\"text-align:center;\">907</td><td  style=\"text-align:center;\">0.04%</td><td  style=\"text-align:center;\">0</td><td  style=\"text-align:center;\">0.00%</td></tr><tr><td  style=\"text-align:left;\">angle-chest-press</td><td  style=\"text-align:center;\">950</td><td  style=\"text-align:center;\">0.04%</td><td  style=\"text-align:center;\">454</td><td  style=\"text-align:center;\">0.08%</td></tr><tr><td  style=\"text-align:left;\">leverage-high-row</td><td  style=\"text-align:center;\">1016</td><td  style=\"text-align:center;\">0.04%</td><td  style=\"text-align:center;\">0</td><td  style=\"text-align:center;\">0.00%</td></tr><tr><td  style=\"text-align:left;\">rowing</td><td  style=\"text-align:center;\">1175</td><td  style=\"text-align:center;\">0.05%</td><td  style=\"text-align:center;\">0</td><td  style=\"text-align:center;\">0.00%</td></tr><tr><td  style=\"text-align:left;\">twist</td><td  style=\"text-align:center;\">1350</td><td  style=\"text-align:center;\">0.06%</td><td  style=\"text-align:center;\">478</td><td  style=\"text-align:center;\">0.09%</td></tr><tr><td  style=\"text-align:left;\">cable-cross-overs</td><td  style=\"text-align:center;\">1374</td><td  style=\"text-align:center;\">0.06%</td><td  style=\"text-align:center;\">209</td><td  style=\"text-align:center;\">0.04%</td></tr><tr><td  style=\"text-align:left;\">pulldown-crunch</td><td  style=\"text-align:center;\">1760</td><td  style=\"text-align:center;\">0.08%</td><td  style=\"text-align:center;\">680</td><td  style=\"text-align:center;\">0.12%</td></tr><tr><td  style=\"text-align:left;\">dumbbell-chest-press</td><td  style=\"text-align:center;\">2413</td><td  style=\"text-align:center;\">0.11%</td><td  style=\"text-align:center;\">295</td><td  style=\"text-align:center;\">0.05%</td></tr><tr><td  style=\"text-align:left;\">dumbbell-chest-fly</td><td  style=\"text-align:center;\">3041</td><td  style=\"text-align:center;\">0.13%</td><td  style=\"text-align:center;\">484</td><td  style=\"text-align:center;\">0.09%</td></tr></table>"
      ],
      "text/plain": [
       "<ipy_table.IpyTable at 0x112f9de50>"
      ]
     },
     "execution_count": 4,
     "metadata": {},
     "output_type": "execute_result"
    }
   ],
   "source": [
    "from ipy_table import *\n",
    "from operator import itemgetter\n",
    "import numpy as np\n",
    "\n",
    "train_dist = np.reshape(np.transpose(np.sum(dataset.y_train, axis=0)), (dataset.num_labels,1))\n",
    "test_dist = np.reshape(np.transpose(np.sum(dataset.y_test, axis=0)), (dataset.num_labels,1))\n",
    "\n",
    "train_ratio = train_dist / dataset.num_train_examples\n",
    "test_ratio = test_dist / dataset.num_test_examples\n",
    "\n",
    "# Fiddle around to get it into table shape\n",
    "table = np.hstack((np.zeros((dataset.num_labels,1), dtype=int), train_dist, train_ratio, test_dist, test_ratio))\n",
    "table = np.vstack((np.zeros((1, 5), dtype=int), table)).tolist()\n",
    "\n",
    "human_labels = map(dataset.human_label_for, range(0,dataset.num_labels))\n",
    "\n",
    "for i,s in enumerate(human_labels):\n",
    "    table[i + 1][0] = s\n",
    "    \n",
    "table.sort(lambda x,y: cmp(x[1], y[1]))\n",
    "\n",
    "table[0][0] = \"\"\n",
    "table[0][1] = \"Train\"\n",
    "table[0][2] = \"Train %\"\n",
    "table[0][3] = \"Test\"\n",
    "table[0][4] = \"Test %\"\n",
    "\n",
    "make_table(table)\n",
    "set_global_style(float_format='%0.0f', align=\"center\")\n",
    "set_column_style(2, float_format='%0.2f%%')\n",
    "set_column_style(4, float_format='%0.2f%%')\n",
    "set_column_style(0, align=\"left\")"
   ]
  },
  {
   "cell_type": "markdown",
   "metadata": {},
   "source": [
    "Let's have a look at the generated data. We will plot some of the examples of the different classes."
   ]
  },
  {
   "cell_type": "code",
   "execution_count": 5,
   "metadata": {
    "collapsed": false
   },
   "outputs": [
    {
     "name": "stdout",
     "output_type": "stream",
     "text": [
      "Ids of plotted examples: [ 4726  2349 13364]\n"
     ]
    },
    {
     "data": {
      "image/png": "[encoded data removed]",
      "text/plain": [
       "<matplotlib.figure.Figure at 0x112eae7d0>"
      ]
     },
     "metadata": {},
     "output_type": "display_data"
    }
   ],
   "source": [
    "from matplotlib import pyplot, cm\n",
    "from pylab import *\n",
    "\n",
    "# Choose some random examples to plot from the training data\n",
    "number_of_examples_to_plot = 3\n",
    "plot_ids = np.random.random_integers(0, dataset.num_train_examples - 1, number_of_examples_to_plot)\n",
    "\n",
    "print \"Ids of plotted examples:\",plot_ids\n",
    "\n",
    "# Retrieve a human readable label given the idx of an example\n",
    "def label_of_example(i):\n",
    "    label_id = np.where(dataset.y_train[i] == 1)[0][0]\n",
    "    return dataset.human_label_for(label_id)\n",
    "\n",
    "figure(figsize=(20,10))\n",
    "ax1 = subplot(311)\n",
    "setp(ax1.get_xticklabels(), visible=False)\n",
    "ax1.set_ylabel('X - Acceleration')\n",
    "\n",
    "ax2 = subplot(312, sharex=ax1)\n",
    "setp(ax2.get_xticklabels(), visible=False)\n",
    "ax2.set_ylabel('Y - Acceleration')\n",
    "\n",
    "ax3 = subplot(313, sharex=ax1)\n",
    "ax3.set_ylabel('Z - Acceleration')\n",
    "\n",
    "for i in plot_ids:\n",
    "    c = np.random.random((3,))\n",
    "\n",
    "    ax1.plot(range(0, dataset.feature_count / 3), dataset.X_train[i,0:400], '-o', c=c)\n",
    "    ax2.plot(range(0, dataset.feature_count / 3), dataset.X_train[i,400:800], '-o', c=c)\n",
    "    ax3.plot(range(0, dataset.feature_count / 3), dataset.X_train[i,800:1200], '-o', c=c)\n",
    "    \n",
    "legend(map(label_of_example, plot_ids))\n",
    "suptitle('Feature values for the first three training examples', fontsize=16)\n",
    "xlabel('Time')\n",
    "show()"
   ]
  },
  {
   "cell_type": "markdown",
   "metadata": {},
   "source": [
    "Now we are going to create a neon model. We will start with a realy simple one layer preceptron having 500 hidden units."
   ]
  },
  {
   "cell_type": "code",
   "execution_count": 55,
   "metadata": {
    "collapsed": false,
    "scrolled": true
   },
   "outputs": [
    {
     "name": "stderr",
     "output_type": "stream",
     "text": [
      "INFO:neon.models.mlp:Layers:\n",
      "\tDataLayer layer: 3 x (400 x 1) nodes\n",
      "\tConvLayer cv_1: 3 x (400 x 1) inputs, 16 x (396 x 1) nodes, RectLin act_fn\n",
      "\tPoolingLayer po_1: 16 x (396 x 1) inputs, 16 x (198 x 1) nodes, Linear act_fn\n",
      "\tConvLayer cv_2: 16 x (198 x 1) inputs, 32 x (194 x 1) nodes, RectLin act_fn\n",
      "\tPoolingLayer po_2: 32 x (194 x 1) inputs, 32 x (97 x 1) nodes, Linear act_fn\n",
      "\tDropOutLayer do_1: 32 x (97 x 1) inputs, 32 x (97 x 1) nodes, Linear act_fn\n",
      "\tFCLayer fc_1: 3104 inputs, 100 nodes, RectLin act_fn\n",
      "\tDropOutLayer do_2: 100 inputs, 100 nodes, Linear act_fn\n",
      "\tFCLayer fc_2: 100 inputs, 29 nodes, Logistic act_fn\n",
      "\tCostLayer cost: 29 nodes, CrossEntropy cost_fn\n",
      "\n",
      "WARNING:neon.datasets.dataset:Incompatible batch size. Discarding 13 samples...\n",
      "WARNING:neon.datasets.dataset:Incompatible batch size. Discarding 19 samples...\n",
      "WARNING:neon.datasets.dataset:Incompatible batch size. Discarding 13 samples...\n",
      "WARNING:neon.datasets.dataset:Incompatible batch size. Discarding 19 samples...\n",
      "WARNING:neon.util.persist:deserializing object from:  /Users/tombocklisch/data/workout-cnn/workout-cnn.prm\n",
      "INFO:neon.models.mlp:commencing model fitting\n",
      "INFO:neon.models.mlp:epoch: 26, training error: 0.18879\n",
      "WARNING:neon.util.persist:serializing object to: /Users/tombocklisch/data/workout-cnn/workout-cnn.prm\n"
     ]
    },
    {
     "name": "stdout",
     "output_type": "stream",
     "text": [
      "Epochs: 75 Batch-Size: 30\n",
      "Starting training...\n",
      "Finished epoch 26"
     ]
    },
    {
     "name": "stderr",
     "output_type": "stream",
     "text": [
      "INFO:neon.models.mlp:Layers:\n",
      "\tDataLayer layer: 3 x (400 x 1) nodes\n",
      "\tConvLayer cv_1: 3 x (400 x 1) inputs, 16 x (396 x 1) nodes, RectLin act_fn\n",
      "\tPoolingLayer po_1: 16 x (396 x 1) inputs, 16 x (198 x 1) nodes, Linear act_fn\n",
      "\tConvLayer cv_2: 16 x (198 x 1) inputs, 32 x (194 x 1) nodes, RectLin act_fn\n",
      "\tPoolingLayer po_2: 32 x (194 x 1) inputs, 32 x (97 x 1) nodes, Linear act_fn\n",
      "\tDropOutLayer do_1: 32 x (97 x 1) inputs, 32 x (97 x 1) nodes, Linear act_fn\n",
      "\tFCLayer fc_1: 3104 inputs, 100 nodes, RectLin act_fn\n",
      "\tDropOutLayer do_2: 100 inputs, 100 nodes, Linear act_fn\n",
      "\tFCLayer fc_2: 100 inputs, 29 nodes, Logistic act_fn\n",
      "\tCostLayer cost: 29 nodes, CrossEntropy cost_fn\n",
      "\n",
      "WARNING:neon.datasets.dataset:Incompatible batch size. Discarding 13 samples...\n",
      "WARNING:neon.datasets.dataset:Incompatible batch size. Discarding 19 samples...\n",
      "WARNING:neon.datasets.dataset:Incompatible batch size. Discarding 13 samples...\n",
      "WARNING:neon.datasets.dataset:Incompatible batch size. Discarding 19 samples...\n",
      "WARNING:neon.util.persist:deserializing object from:  /Users/tombocklisch/data/workout-cnn/workout-cnn.prm\n",
      "INFO:neon.models.mlp:commencing model fitting\n",
      "INFO:neon.models.mlp:epoch: 27, training error: 0.17689\n",
      "WARNING:neon.util.persist:serializing object to: /Users/tombocklisch/data/workout-cnn/workout-cnn.prm\n"
     ]
    },
    {
     "name": "stdout",
     "output_type": "stream",
     "text": [
      "\n",
      "Finished epoch 27"
     ]
    },
    {
     "name": "stderr",
     "output_type": "stream",
     "text": [
      "INFO:neon.models.mlp:Layers:\n",
      "\tDataLayer layer: 3 x (400 x 1) nodes\n",
      "\tConvLayer cv_1: 3 x (400 x 1) inputs, 16 x (396 x 1) nodes, RectLin act_fn\n",
      "\tPoolingLayer po_1: 16 x (396 x 1) inputs, 16 x (198 x 1) nodes, Linear act_fn\n",
      "\tConvLayer cv_2: 16 x (198 x 1) inputs, 32 x (194 x 1) nodes, RectLin act_fn\n",
      "\tPoolingLayer po_2: 32 x (194 x 1) inputs, 32 x (97 x 1) nodes, Linear act_fn\n",
      "\tDropOutLayer do_1: 32 x (97 x 1) inputs, 32 x (97 x 1) nodes, Linear act_fn\n",
      "\tFCLayer fc_1: 3104 inputs, 100 nodes, RectLin act_fn\n",
      "\tDropOutLayer do_2: 100 inputs, 100 nodes, Linear act_fn\n",
      "\tFCLayer fc_2: 100 inputs, 29 nodes, Logistic act_fn\n",
      "\tCostLayer cost: 29 nodes, CrossEntropy cost_fn\n",
      "\n",
      "WARNING:neon.datasets.dataset:Incompatible batch size. Discarding 13 samples...\n",
      "WARNING:neon.datasets.dataset:Incompatible batch size. Discarding 19 samples...\n",
      "WARNING:neon.datasets.dataset:Incompatible batch size. Discarding 13 samples...\n",
      "WARNING:neon.datasets.dataset:Incompatible batch size. Discarding 19 samples...\n",
      "WARNING:neon.util.persist:deserializing object from:  /Users/tombocklisch/data/workout-cnn/workout-cnn.prm\n",
      "INFO:neon.models.mlp:commencing model fitting\n",
      "INFO:neon.models.mlp:epoch: 28, training error: 0.16732\n",
      "WARNING:neon.util.persist:serializing object to: /Users/tombocklisch/data/workout-cnn/workout-cnn.prm\n"
     ]
    },
    {
     "name": "stdout",
     "output_type": "stream",
     "text": [
      "\n",
      "Finished epoch 28"
     ]
    },
    {
     "name": "stderr",
     "output_type": "stream",
     "text": [
      "INFO:neon.models.mlp:Layers:\n",
      "\tDataLayer layer: 3 x (400 x 1) nodes\n",
      "\tConvLayer cv_1: 3 x (400 x 1) inputs, 16 x (396 x 1) nodes, RectLin act_fn\n",
      "\tPoolingLayer po_1: 16 x (396 x 1) inputs, 16 x (198 x 1) nodes, Linear act_fn\n",
      "\tConvLayer cv_2: 16 x (198 x 1) inputs, 32 x (194 x 1) nodes, RectLin act_fn\n",
      "\tPoolingLayer po_2: 32 x (194 x 1) inputs, 32 x (97 x 1) nodes, Linear act_fn\n",
      "\tDropOutLayer do_1: 32 x (97 x 1) inputs, 32 x (97 x 1) nodes, Linear act_fn\n",
      "\tFCLayer fc_1: 3104 inputs, 100 nodes, RectLin act_fn\n",
      "\tDropOutLayer do_2: 100 inputs, 100 nodes, Linear act_fn\n",
      "\tFCLayer fc_2: 100 inputs, 29 nodes, Logistic act_fn\n",
      "\tCostLayer cost: 29 nodes, CrossEntropy cost_fn\n",
      "\n",
      "WARNING:neon.datasets.dataset:Incompatible batch size. Discarding 13 samples...\n",
      "WARNING:neon.datasets.dataset:Incompatible batch size. Discarding 19 samples...\n",
      "WARNING:neon.datasets.dataset:Incompatible batch size. Discarding 13 samples...\n",
      "WARNING:neon.datasets.dataset:Incompatible batch size. Discarding 19 samples...\n",
      "WARNING:neon.util.persist:deserializing object from:  /Users/tombocklisch/data/workout-cnn/workout-cnn.prm\n",
      "INFO:neon.models.mlp:commencing model fitting\n",
      "INFO:neon.models.mlp:epoch: 29, training error: 0.16821\n",
      "WARNING:neon.util.persist:serializing object to: /Users/tombocklisch/data/workout-cnn/workout-cnn.prm\n"
     ]
    },
    {
     "name": "stdout",
     "output_type": "stream",
     "text": [
      "\n",
      "Finished epoch 29"
     ]
    },
    {
     "name": "stderr",
     "output_type": "stream",
     "text": [
      "INFO:neon.models.mlp:Layers:\n",
      "\tDataLayer layer: 3 x (400 x 1) nodes\n",
      "\tConvLayer cv_1: 3 x (400 x 1) inputs, 16 x (396 x 1) nodes, RectLin act_fn\n",
      "\tPoolingLayer po_1: 16 x (396 x 1) inputs, 16 x (198 x 1) nodes, Linear act_fn\n",
      "\tConvLayer cv_2: 16 x (198 x 1) inputs, 32 x (194 x 1) nodes, RectLin act_fn\n",
      "\tPoolingLayer po_2: 32 x (194 x 1) inputs, 32 x (97 x 1) nodes, Linear act_fn\n",
      "\tDropOutLayer do_1: 32 x (97 x 1) inputs, 32 x (97 x 1) nodes, Linear act_fn\n",
      "\tFCLayer fc_1: 3104 inputs, 100 nodes, RectLin act_fn\n",
      "\tDropOutLayer do_2: 100 inputs, 100 nodes, Linear act_fn\n",
      "\tFCLayer fc_2: 100 inputs, 29 nodes, Logistic act_fn\n",
      "\tCostLayer cost: 29 nodes, CrossEntropy cost_fn\n",
      "\n",
      "WARNING:neon.datasets.dataset:Incompatible batch size. Discarding 13 samples...\n",
      "WARNING:neon.datasets.dataset:Incompatible batch size. Discarding 19 samples...\n",
      "WARNING:neon.datasets.dataset:Incompatible batch size. Discarding 13 samples...\n",
      "WARNING:neon.datasets.dataset:Incompatible batch size. Discarding 19 samples...\n",
      "WARNING:neon.util.persist:deserializing object from:  /Users/tombocklisch/data/workout-cnn/workout-cnn.prm\n",
      "INFO:neon.models.mlp:commencing model fitting\n",
      "INFO:neon.models.mlp:epoch: 30, training error: 0.15454\n",
      "WARNING:neon.util.persist:serializing object to: /Users/tombocklisch/data/workout-cnn/workout-cnn.prm\n"
     ]
    },
    {
     "name": "stdout",
     "output_type": "stream",
     "text": [
      "\n",
      "Finished epoch 30"
     ]
    },
    {
     "name": "stderr",
     "output_type": "stream",
     "text": [
      "INFO:neon.models.mlp:Layers:\n",
      "\tDataLayer layer: 3 x (400 x 1) nodes\n",
      "\tConvLayer cv_1: 3 x (400 x 1) inputs, 16 x (396 x 1) nodes, RectLin act_fn\n",
      "\tPoolingLayer po_1: 16 x (396 x 1) inputs, 16 x (198 x 1) nodes, Linear act_fn\n",
      "\tConvLayer cv_2: 16 x (198 x 1) inputs, 32 x (194 x 1) nodes, RectLin act_fn\n",
      "\tPoolingLayer po_2: 32 x (194 x 1) inputs, 32 x (97 x 1) nodes, Linear act_fn\n",
      "\tDropOutLayer do_1: 32 x (97 x 1) inputs, 32 x (97 x 1) nodes, Linear act_fn\n",
      "\tFCLayer fc_1: 3104 inputs, 100 nodes, RectLin act_fn\n",
      "\tDropOutLayer do_2: 100 inputs, 100 nodes, Linear act_fn\n",
      "\tFCLayer fc_2: 100 inputs, 29 nodes, Logistic act_fn\n",
      "\tCostLayer cost: 29 nodes, CrossEntropy cost_fn\n",
      "\n",
      "WARNING:neon.datasets.dataset:Incompatible batch size. Discarding 13 samples...\n",
      "WARNING:neon.datasets.dataset:Incompatible batch size. Discarding 19 samples...\n",
      "WARNING:neon.datasets.dataset:Incompatible batch size. Discarding 13 samples...\n",
      "WARNING:neon.datasets.dataset:Incompatible batch size. Discarding 19 samples...\n",
      "WARNING:neon.util.persist:deserializing object from:  /Users/tombocklisch/data/workout-cnn/workout-cnn.prm\n",
      "INFO:neon.models.mlp:commencing model fitting\n",
      "INFO:neon.models.mlp:epoch: 31, training error: 0.14773\n",
      "WARNING:neon.util.persist:serializing object to: /Users/tombocklisch/data/workout-cnn/workout-cnn.prm\n"
     ]
    },
    {
     "name": "stdout",
     "output_type": "stream",
     "text": [
      "\n",
      "Finished epoch 31"
     ]
    },
    {
     "name": "stderr",
     "output_type": "stream",
     "text": [
      "INFO:neon.models.mlp:Layers:\n",
      "\tDataLayer layer: 3 x (400 x 1) nodes\n",
      "\tConvLayer cv_1: 3 x (400 x 1) inputs, 16 x (396 x 1) nodes, RectLin act_fn\n",
      "\tPoolingLayer po_1: 16 x (396 x 1) inputs, 16 x (198 x 1) nodes, Linear act_fn\n",
      "\tConvLayer cv_2: 16 x (198 x 1) inputs, 32 x (194 x 1) nodes, RectLin act_fn\n",
      "\tPoolingLayer po_2: 32 x (194 x 1) inputs, 32 x (97 x 1) nodes, Linear act_fn\n",
      "\tDropOutLayer do_1: 32 x (97 x 1) inputs, 32 x (97 x 1) nodes, Linear act_fn\n",
      "\tFCLayer fc_1: 3104 inputs, 100 nodes, RectLin act_fn\n",
      "\tDropOutLayer do_2: 100 inputs, 100 nodes, Linear act_fn\n",
      "\tFCLayer fc_2: 100 inputs, 29 nodes, Logistic act_fn\n",
      "\tCostLayer cost: 29 nodes, CrossEntropy cost_fn\n",
      "\n",
      "WARNING:neon.datasets.dataset:Incompatible batch size. Discarding 13 samples...\n",
      "WARNING:neon.datasets.dataset:Incompatible batch size. Discarding 19 samples...\n",
      "WARNING:neon.datasets.dataset:Incompatible batch size. Discarding 13 samples...\n",
      "WARNING:neon.datasets.dataset:Incompatible batch size. Discarding 19 samples...\n",
      "WARNING:neon.util.persist:deserializing object from:  /Users/tombocklisch/data/workout-cnn/workout-cnn.prm\n",
      "INFO:neon.models.mlp:commencing model fitting\n",
      "INFO:neon.models.mlp:epoch: 32, training error: 0.14312\n",
      "WARNING:neon.util.persist:serializing object to: /Users/tombocklisch/data/workout-cnn/workout-cnn.prm\n"
     ]
    },
    {
     "name": "stdout",
     "output_type": "stream",
     "text": [
      "\n",
      "Finished epoch 32"
     ]
    },
    {
     "name": "stderr",
     "output_type": "stream",
     "text": [
      "INFO:neon.models.mlp:Layers:\n",
      "\tDataLayer layer: 3 x (400 x 1) nodes\n",
      "\tConvLayer cv_1: 3 x (400 x 1) inputs, 16 x (396 x 1) nodes, RectLin act_fn\n",
      "\tPoolingLayer po_1: 16 x (396 x 1) inputs, 16 x (198 x 1) nodes, Linear act_fn\n",
      "\tConvLayer cv_2: 16 x (198 x 1) inputs, 32 x (194 x 1) nodes, RectLin act_fn\n",
      "\tPoolingLayer po_2: 32 x (194 x 1) inputs, 32 x (97 x 1) nodes, Linear act_fn\n",
      "\tDropOutLayer do_1: 32 x (97 x 1) inputs, 32 x (97 x 1) nodes, Linear act_fn\n",
      "\tFCLayer fc_1: 3104 inputs, 100 nodes, RectLin act_fn\n",
      "\tDropOutLayer do_2: 100 inputs, 100 nodes, Linear act_fn\n",
      "\tFCLayer fc_2: 100 inputs, 29 nodes, Logistic act_fn\n",
      "\tCostLayer cost: 29 nodes, CrossEntropy cost_fn\n",
      "\n",
      "WARNING:neon.datasets.dataset:Incompatible batch size. Discarding 13 samples...\n",
      "WARNING:neon.datasets.dataset:Incompatible batch size. Discarding 19 samples...\n",
      "WARNING:neon.datasets.dataset:Incompatible batch size. Discarding 13 samples...\n",
      "WARNING:neon.datasets.dataset:Incompatible batch size. Discarding 19 samples...\n",
      "WARNING:neon.util.persist:deserializing object from:  /Users/tombocklisch/data/workout-cnn/workout-cnn.prm\n",
      "INFO:neon.models.mlp:commencing model fitting\n",
      "INFO:neon.models.mlp:epoch: 33, training error: 0.13829\n",
      "WARNING:neon.util.persist:serializing object to: /Users/tombocklisch/data/workout-cnn/workout-cnn.prm\n"
     ]
    },
    {
     "name": "stdout",
     "output_type": "stream",
     "text": [
      "\n",
      "Finished epoch 33"
     ]
    },
    {
     "name": "stderr",
     "output_type": "stream",
     "text": [
      "INFO:neon.models.mlp:Layers:\n",
      "\tDataLayer layer: 3 x (400 x 1) nodes\n",
      "\tConvLayer cv_1: 3 x (400 x 1) inputs, 16 x (396 x 1) nodes, RectLin act_fn\n",
      "\tPoolingLayer po_1: 16 x (396 x 1) inputs, 16 x (198 x 1) nodes, Linear act_fn\n",
      "\tConvLayer cv_2: 16 x (198 x 1) inputs, 32 x (194 x 1) nodes, RectLin act_fn\n",
      "\tPoolingLayer po_2: 32 x (194 x 1) inputs, 32 x (97 x 1) nodes, Linear act_fn\n",
      "\tDropOutLayer do_1: 32 x (97 x 1) inputs, 32 x (97 x 1) nodes, Linear act_fn\n",
      "\tFCLayer fc_1: 3104 inputs, 100 nodes, RectLin act_fn\n",
      "\tDropOutLayer do_2: 100 inputs, 100 nodes, Linear act_fn\n",
      "\tFCLayer fc_2: 100 inputs, 29 nodes, Logistic act_fn\n",
      "\tCostLayer cost: 29 nodes, CrossEntropy cost_fn\n",
      "\n",
      "WARNING:neon.datasets.dataset:Incompatible batch size. Discarding 13 samples...\n",
      "WARNING:neon.datasets.dataset:Incompatible batch size. Discarding 19 samples...\n",
      "WARNING:neon.datasets.dataset:Incompatible batch size. Discarding 13 samples...\n",
      "WARNING:neon.datasets.dataset:Incompatible batch size. Discarding 19 samples...\n",
      "WARNING:neon.util.persist:deserializing object from:  /Users/tombocklisch/data/workout-cnn/workout-cnn.prm\n",
      "INFO:neon.models.mlp:commencing model fitting\n",
      "INFO:neon.models.mlp:epoch: 34, training error: 0.13373\n",
      "WARNING:neon.util.persist:serializing object to: /Users/tombocklisch/data/workout-cnn/workout-cnn.prm\n"
     ]
    },
    {
     "name": "stdout",
     "output_type": "stream",
     "text": [
      "\n",
      "Finished epoch 34"
     ]
    },
    {
     "name": "stderr",
     "output_type": "stream",
     "text": [
      "INFO:neon.models.mlp:Layers:\n",
      "\tDataLayer layer: 3 x (400 x 1) nodes\n",
      "\tConvLayer cv_1: 3 x (400 x 1) inputs, 16 x (396 x 1) nodes, RectLin act_fn\n",
      "\tPoolingLayer po_1: 16 x (396 x 1) inputs, 16 x (198 x 1) nodes, Linear act_fn\n",
      "\tConvLayer cv_2: 16 x (198 x 1) inputs, 32 x (194 x 1) nodes, RectLin act_fn\n",
      "\tPoolingLayer po_2: 32 x (194 x 1) inputs, 32 x (97 x 1) nodes, Linear act_fn\n",
      "\tDropOutLayer do_1: 32 x (97 x 1) inputs, 32 x (97 x 1) nodes, Linear act_fn\n",
      "\tFCLayer fc_1: 3104 inputs, 100 nodes, RectLin act_fn\n",
      "\tDropOutLayer do_2: 100 inputs, 100 nodes, Linear act_fn\n",
      "\tFCLayer fc_2: 100 inputs, 29 nodes, Logistic act_fn\n",
      "\tCostLayer cost: 29 nodes, CrossEntropy cost_fn\n",
      "\n",
      "WARNING:neon.datasets.dataset:Incompatible batch size. Discarding 13 samples...\n",
      "WARNING:neon.datasets.dataset:Incompatible batch size. Discarding 19 samples...\n",
      "WARNING:neon.datasets.dataset:Incompatible batch size. Discarding 13 samples...\n",
      "WARNING:neon.datasets.dataset:Incompatible batch size. Discarding 19 samples...\n",
      "WARNING:neon.util.persist:deserializing object from:  /Users/tombocklisch/data/workout-cnn/workout-cnn.prm\n",
      "INFO:neon.models.mlp:commencing model fitting\n",
      "INFO:neon.models.mlp:epoch: 35, training error: 0.12945\n",
      "WARNING:neon.util.persist:serializing object to: /Users/tombocklisch/data/workout-cnn/workout-cnn.prm\n"
     ]
    },
    {
     "name": "stdout",
     "output_type": "stream",
     "text": [
      "\n",
      "Finished epoch 35"
     ]
    },
    {
     "name": "stderr",
     "output_type": "stream",
     "text": [
      "INFO:neon.models.mlp:Layers:\n",
      "\tDataLayer layer: 3 x (400 x 1) nodes\n",
      "\tConvLayer cv_1: 3 x (400 x 1) inputs, 16 x (396 x 1) nodes, RectLin act_fn\n",
      "\tPoolingLayer po_1: 16 x (396 x 1) inputs, 16 x (198 x 1) nodes, Linear act_fn\n",
      "\tConvLayer cv_2: 16 x (198 x 1) inputs, 32 x (194 x 1) nodes, RectLin act_fn\n",
      "\tPoolingLayer po_2: 32 x (194 x 1) inputs, 32 x (97 x 1) nodes, Linear act_fn\n",
      "\tDropOutLayer do_1: 32 x (97 x 1) inputs, 32 x (97 x 1) nodes, Linear act_fn\n",
      "\tFCLayer fc_1: 3104 inputs, 100 nodes, RectLin act_fn\n",
      "\tDropOutLayer do_2: 100 inputs, 100 nodes, Linear act_fn\n",
      "\tFCLayer fc_2: 100 inputs, 29 nodes, Logistic act_fn\n",
      "\tCostLayer cost: 29 nodes, CrossEntropy cost_fn\n",
      "\n",
      "WARNING:neon.datasets.dataset:Incompatible batch size. Discarding 13 samples...\n",
      "WARNING:neon.datasets.dataset:Incompatible batch size. Discarding 19 samples...\n",
      "WARNING:neon.datasets.dataset:Incompatible batch size. Discarding 13 samples...\n",
      "WARNING:neon.datasets.dataset:Incompatible batch size. Discarding 19 samples...\n",
      "WARNING:neon.util.persist:deserializing object from:  /Users/tombocklisch/data/workout-cnn/workout-cnn.prm\n",
      "INFO:neon.models.mlp:commencing model fitting\n",
      "INFO:neon.models.mlp:epoch: 36, training error: 0.11935\n",
      "WARNING:neon.util.persist:serializing object to: /Users/tombocklisch/data/workout-cnn/workout-cnn.prm\n"
     ]
    },
    {
     "name": "stdout",
     "output_type": "stream",
     "text": [
      "\n",
      "Finished epoch 36"
     ]
    },
    {
     "name": "stderr",
     "output_type": "stream",
     "text": [
      "INFO:neon.models.mlp:Layers:\n",
      "\tDataLayer layer: 3 x (400 x 1) nodes\n",
      "\tConvLayer cv_1: 3 x (400 x 1) inputs, 16 x (396 x 1) nodes, RectLin act_fn\n",
      "\tPoolingLayer po_1: 16 x (396 x 1) inputs, 16 x (198 x 1) nodes, Linear act_fn\n",
      "\tConvLayer cv_2: 16 x (198 x 1) inputs, 32 x (194 x 1) nodes, RectLin act_fn\n",
      "\tPoolingLayer po_2: 32 x (194 x 1) inputs, 32 x (97 x 1) nodes, Linear act_fn\n",
      "\tDropOutLayer do_1: 32 x (97 x 1) inputs, 32 x (97 x 1) nodes, Linear act_fn\n",
      "\tFCLayer fc_1: 3104 inputs, 100 nodes, RectLin act_fn\n",
      "\tDropOutLayer do_2: 100 inputs, 100 nodes, Linear act_fn\n",
      "\tFCLayer fc_2: 100 inputs, 29 nodes, Logistic act_fn\n",
      "\tCostLayer cost: 29 nodes, CrossEntropy cost_fn\n",
      "\n",
      "WARNING:neon.datasets.dataset:Incompatible batch size. Discarding 13 samples...\n",
      "WARNING:neon.datasets.dataset:Incompatible batch size. Discarding 19 samples...\n",
      "WARNING:neon.datasets.dataset:Incompatible batch size. Discarding 13 samples...\n",
      "WARNING:neon.datasets.dataset:Incompatible batch size. Discarding 19 samples...\n",
      "WARNING:neon.util.persist:deserializing object from:  /Users/tombocklisch/data/workout-cnn/workout-cnn.prm\n",
      "INFO:neon.models.mlp:commencing model fitting\n",
      "INFO:neon.models.mlp:epoch: 37, training error: 0.11506\n",
      "WARNING:neon.util.persist:serializing object to: /Users/tombocklisch/data/workout-cnn/workout-cnn.prm\n"
     ]
    },
    {
     "name": "stdout",
     "output_type": "stream",
     "text": [
      "\n",
      "Finished epoch 37"
     ]
    },
    {
     "name": "stderr",
     "output_type": "stream",
     "text": [
      "INFO:neon.models.mlp:Layers:\n",
      "\tDataLayer layer: 3 x (400 x 1) nodes\n",
      "\tConvLayer cv_1: 3 x (400 x 1) inputs, 16 x (396 x 1) nodes, RectLin act_fn\n",
      "\tPoolingLayer po_1: 16 x (396 x 1) inputs, 16 x (198 x 1) nodes, Linear act_fn\n",
      "\tConvLayer cv_2: 16 x (198 x 1) inputs, 32 x (194 x 1) nodes, RectLin act_fn\n",
      "\tPoolingLayer po_2: 32 x (194 x 1) inputs, 32 x (97 x 1) nodes, Linear act_fn\n",
      "\tDropOutLayer do_1: 32 x (97 x 1) inputs, 32 x (97 x 1) nodes, Linear act_fn\n",
      "\tFCLayer fc_1: 3104 inputs, 100 nodes, RectLin act_fn\n",
      "\tDropOutLayer do_2: 100 inputs, 100 nodes, Linear act_fn\n",
      "\tFCLayer fc_2: 100 inputs, 29 nodes, Logistic act_fn\n",
      "\tCostLayer cost: 29 nodes, CrossEntropy cost_fn\n",
      "\n",
      "WARNING:neon.datasets.dataset:Incompatible batch size. Discarding 13 samples...\n",
      "WARNING:neon.datasets.dataset:Incompatible batch size. Discarding 19 samples...\n",
      "WARNING:neon.datasets.dataset:Incompatible batch size. Discarding 13 samples...\n",
      "WARNING:neon.datasets.dataset:Incompatible batch size. Discarding 19 samples...\n",
      "WARNING:neon.util.persist:deserializing object from:  /Users/tombocklisch/data/workout-cnn/workout-cnn.prm\n",
      "INFO:neon.models.mlp:commencing model fitting\n",
      "INFO:neon.models.mlp:epoch: 38, training error: 0.11072\n",
      "WARNING:neon.util.persist:serializing object to: /Users/tombocklisch/data/workout-cnn/workout-cnn.prm\n"
     ]
    },
    {
     "name": "stdout",
     "output_type": "stream",
     "text": [
      "\n",
      "Finished epoch 38"
     ]
    },
    {
     "name": "stderr",
     "output_type": "stream",
     "text": [
      "INFO:neon.models.mlp:Layers:\n",
      "\tDataLayer layer: 3 x (400 x 1) nodes\n",
      "\tConvLayer cv_1: 3 x (400 x 1) inputs, 16 x (396 x 1) nodes, RectLin act_fn\n",
      "\tPoolingLayer po_1: 16 x (396 x 1) inputs, 16 x (198 x 1) nodes, Linear act_fn\n",
      "\tConvLayer cv_2: 16 x (198 x 1) inputs, 32 x (194 x 1) nodes, RectLin act_fn\n",
      "\tPoolingLayer po_2: 32 x (194 x 1) inputs, 32 x (97 x 1) nodes, Linear act_fn\n",
      "\tDropOutLayer do_1: 32 x (97 x 1) inputs, 32 x (97 x 1) nodes, Linear act_fn\n",
      "\tFCLayer fc_1: 3104 inputs, 100 nodes, RectLin act_fn\n",
      "\tDropOutLayer do_2: 100 inputs, 100 nodes, Linear act_fn\n",
      "\tFCLayer fc_2: 100 inputs, 29 nodes, Logistic act_fn\n",
      "\tCostLayer cost: 29 nodes, CrossEntropy cost_fn\n",
      "\n",
      "WARNING:neon.datasets.dataset:Incompatible batch size. Discarding 13 samples...\n",
      "WARNING:neon.datasets.dataset:Incompatible batch size. Discarding 19 samples...\n",
      "WARNING:neon.datasets.dataset:Incompatible batch size. Discarding 13 samples...\n",
      "WARNING:neon.datasets.dataset:Incompatible batch size. Discarding 19 samples...\n",
      "WARNING:neon.util.persist:deserializing object from:  /Users/tombocklisch/data/workout-cnn/workout-cnn.prm\n",
      "INFO:neon.models.mlp:commencing model fitting\n",
      "INFO:neon.models.mlp:epoch: 39, training error: 0.10636\n",
      "WARNING:neon.util.persist:serializing object to: /Users/tombocklisch/data/workout-cnn/workout-cnn.prm\n"
     ]
    },
    {
     "name": "stdout",
     "output_type": "stream",
     "text": [
      "\n",
      "Finished epoch 39"
     ]
    },
    {
     "name": "stderr",
     "output_type": "stream",
     "text": [
      "INFO:neon.models.mlp:Layers:\n",
      "\tDataLayer layer: 3 x (400 x 1) nodes\n",
      "\tConvLayer cv_1: 3 x (400 x 1) inputs, 16 x (396 x 1) nodes, RectLin act_fn\n",
      "\tPoolingLayer po_1: 16 x (396 x 1) inputs, 16 x (198 x 1) nodes, Linear act_fn\n",
      "\tConvLayer cv_2: 16 x (198 x 1) inputs, 32 x (194 x 1) nodes, RectLin act_fn\n",
      "\tPoolingLayer po_2: 32 x (194 x 1) inputs, 32 x (97 x 1) nodes, Linear act_fn\n",
      "\tDropOutLayer do_1: 32 x (97 x 1) inputs, 32 x (97 x 1) nodes, Linear act_fn\n",
      "\tFCLayer fc_1: 3104 inputs, 100 nodes, RectLin act_fn\n",
      "\tDropOutLayer do_2: 100 inputs, 100 nodes, Linear act_fn\n",
      "\tFCLayer fc_2: 100 inputs, 29 nodes, Logistic act_fn\n",
      "\tCostLayer cost: 29 nodes, CrossEntropy cost_fn\n",
      "\n",
      "WARNING:neon.datasets.dataset:Incompatible batch size. Discarding 13 samples...\n",
      "WARNING:neon.datasets.dataset:Incompatible batch size. Discarding 19 samples...\n",
      "WARNING:neon.datasets.dataset:Incompatible batch size. Discarding 13 samples...\n",
      "WARNING:neon.datasets.dataset:Incompatible batch size. Discarding 19 samples...\n",
      "WARNING:neon.util.persist:deserializing object from:  /Users/tombocklisch/data/workout-cnn/workout-cnn.prm\n",
      "INFO:neon.models.mlp:commencing model fitting\n",
      "INFO:neon.models.mlp:epoch: 40, training error: 0.10155\n",
      "WARNING:neon.util.persist:serializing object to: /Users/tombocklisch/data/workout-cnn/workout-cnn.prm\n"
     ]
    },
    {
     "name": "stdout",
     "output_type": "stream",
     "text": [
      "\n",
      "Finished epoch 40"
     ]
    },
    {
     "name": "stderr",
     "output_type": "stream",
     "text": [
      "INFO:neon.models.mlp:Layers:\n",
      "\tDataLayer layer: 3 x (400 x 1) nodes\n",
      "\tConvLayer cv_1: 3 x (400 x 1) inputs, 16 x (396 x 1) nodes, RectLin act_fn\n",
      "\tPoolingLayer po_1: 16 x (396 x 1) inputs, 16 x (198 x 1) nodes, Linear act_fn\n",
      "\tConvLayer cv_2: 16 x (198 x 1) inputs, 32 x (194 x 1) nodes, RectLin act_fn\n",
      "\tPoolingLayer po_2: 32 x (194 x 1) inputs, 32 x (97 x 1) nodes, Linear act_fn\n",
      "\tDropOutLayer do_1: 32 x (97 x 1) inputs, 32 x (97 x 1) nodes, Linear act_fn\n",
      "\tFCLayer fc_1: 3104 inputs, 100 nodes, RectLin act_fn\n",
      "\tDropOutLayer do_2: 100 inputs, 100 nodes, Linear act_fn\n",
      "\tFCLayer fc_2: 100 inputs, 29 nodes, Logistic act_fn\n",
      "\tCostLayer cost: 29 nodes, CrossEntropy cost_fn\n",
      "\n",
      "WARNING:neon.datasets.dataset:Incompatible batch size. Discarding 13 samples...\n",
      "WARNING:neon.datasets.dataset:Incompatible batch size. Discarding 19 samples...\n",
      "WARNING:neon.datasets.dataset:Incompatible batch size. Discarding 13 samples...\n",
      "WARNING:neon.datasets.dataset:Incompatible batch size. Discarding 19 samples...\n",
      "WARNING:neon.util.persist:deserializing object from:  /Users/tombocklisch/data/workout-cnn/workout-cnn.prm\n",
      "INFO:neon.models.mlp:commencing model fitting\n",
      "INFO:neon.models.mlp:epoch: 41, training error: 0.08609\n",
      "WARNING:neon.util.persist:serializing object to: /Users/tombocklisch/data/workout-cnn/workout-cnn.prm\n"
     ]
    },
    {
     "name": "stdout",
     "output_type": "stream",
     "text": [
      "\n",
      "Finished epoch 41"
     ]
    },
    {
     "name": "stderr",
     "output_type": "stream",
     "text": [
      "INFO:neon.models.mlp:Layers:\n",
      "\tDataLayer layer: 3 x (400 x 1) nodes\n",
      "\tConvLayer cv_1: 3 x (400 x 1) inputs, 16 x (396 x 1) nodes, RectLin act_fn\n",
      "\tPoolingLayer po_1: 16 x (396 x 1) inputs, 16 x (198 x 1) nodes, Linear act_fn\n",
      "\tConvLayer cv_2: 16 x (198 x 1) inputs, 32 x (194 x 1) nodes, RectLin act_fn\n",
      "\tPoolingLayer po_2: 32 x (194 x 1) inputs, 32 x (97 x 1) nodes, Linear act_fn\n",
      "\tDropOutLayer do_1: 32 x (97 x 1) inputs, 32 x (97 x 1) nodes, Linear act_fn\n",
      "\tFCLayer fc_1: 3104 inputs, 100 nodes, RectLin act_fn\n",
      "\tDropOutLayer do_2: 100 inputs, 100 nodes, Linear act_fn\n",
      "\tFCLayer fc_2: 100 inputs, 29 nodes, Logistic act_fn\n",
      "\tCostLayer cost: 29 nodes, CrossEntropy cost_fn\n",
      "\n",
      "WARNING:neon.datasets.dataset:Incompatible batch size. Discarding 13 samples...\n",
      "WARNING:neon.datasets.dataset:Incompatible batch size. Discarding 19 samples...\n",
      "WARNING:neon.datasets.dataset:Incompatible batch size. Discarding 13 samples...\n",
      "WARNING:neon.datasets.dataset:Incompatible batch size. Discarding 19 samples...\n",
      "WARNING:neon.util.persist:deserializing object from:  /Users/tombocklisch/data/workout-cnn/workout-cnn.prm\n",
      "INFO:neon.models.mlp:commencing model fitting\n",
      "INFO:neon.models.mlp:epoch: 42, training error: 0.08162\n",
      "WARNING:neon.util.persist:serializing object to: /Users/tombocklisch/data/workout-cnn/workout-cnn.prm\n"
     ]
    },
    {
     "name": "stdout",
     "output_type": "stream",
     "text": [
      "\n",
      "Finished epoch 42"
     ]
    },
    {
     "name": "stderr",
     "output_type": "stream",
     "text": [
      "INFO:neon.models.mlp:Layers:\n",
      "\tDataLayer layer: 3 x (400 x 1) nodes\n",
      "\tConvLayer cv_1: 3 x (400 x 1) inputs, 16 x (396 x 1) nodes, RectLin act_fn\n",
      "\tPoolingLayer po_1: 16 x (396 x 1) inputs, 16 x (198 x 1) nodes, Linear act_fn\n",
      "\tConvLayer cv_2: 16 x (198 x 1) inputs, 32 x (194 x 1) nodes, RectLin act_fn\n",
      "\tPoolingLayer po_2: 32 x (194 x 1) inputs, 32 x (97 x 1) nodes, Linear act_fn\n",
      "\tDropOutLayer do_1: 32 x (97 x 1) inputs, 32 x (97 x 1) nodes, Linear act_fn\n",
      "\tFCLayer fc_1: 3104 inputs, 100 nodes, RectLin act_fn\n",
      "\tDropOutLayer do_2: 100 inputs, 100 nodes, Linear act_fn\n",
      "\tFCLayer fc_2: 100 inputs, 29 nodes, Logistic act_fn\n",
      "\tCostLayer cost: 29 nodes, CrossEntropy cost_fn\n",
      "\n",
      "WARNING:neon.datasets.dataset:Incompatible batch size. Discarding 13 samples...\n",
      "WARNING:neon.datasets.dataset:Incompatible batch size. Discarding 19 samples...\n",
      "WARNING:neon.datasets.dataset:Incompatible batch size. Discarding 13 samples...\n",
      "WARNING:neon.datasets.dataset:Incompatible batch size. Discarding 19 samples...\n",
      "WARNING:neon.util.persist:deserializing object from:  /Users/tombocklisch/data/workout-cnn/workout-cnn.prm\n",
      "INFO:neon.models.mlp:commencing model fitting\n",
      "INFO:neon.models.mlp:epoch: 43, training error: 0.07943\n",
      "WARNING:neon.util.persist:serializing object to: /Users/tombocklisch/data/workout-cnn/workout-cnn.prm\n"
     ]
    },
    {
     "name": "stdout",
     "output_type": "stream",
     "text": [
      "\n",
      "Finished epoch 43"
     ]
    },
    {
     "name": "stderr",
     "output_type": "stream",
     "text": [
      "INFO:neon.models.mlp:Layers:\n",
      "\tDataLayer layer: 3 x (400 x 1) nodes\n",
      "\tConvLayer cv_1: 3 x (400 x 1) inputs, 16 x (396 x 1) nodes, RectLin act_fn\n",
      "\tPoolingLayer po_1: 16 x (396 x 1) inputs, 16 x (198 x 1) nodes, Linear act_fn\n",
      "\tConvLayer cv_2: 16 x (198 x 1) inputs, 32 x (194 x 1) nodes, RectLin act_fn\n",
      "\tPoolingLayer po_2: 32 x (194 x 1) inputs, 32 x (97 x 1) nodes, Linear act_fn\n",
      "\tDropOutLayer do_1: 32 x (97 x 1) inputs, 32 x (97 x 1) nodes, Linear act_fn\n",
      "\tFCLayer fc_1: 3104 inputs, 100 nodes, RectLin act_fn\n",
      "\tDropOutLayer do_2: 100 inputs, 100 nodes, Linear act_fn\n",
      "\tFCLayer fc_2: 100 inputs, 29 nodes, Logistic act_fn\n",
      "\tCostLayer cost: 29 nodes, CrossEntropy cost_fn\n",
      "\n",
      "WARNING:neon.datasets.dataset:Incompatible batch size. Discarding 13 samples...\n",
      "WARNING:neon.datasets.dataset:Incompatible batch size. Discarding 19 samples...\n",
      "WARNING:neon.datasets.dataset:Incompatible batch size. Discarding 13 samples...\n",
      "WARNING:neon.datasets.dataset:Incompatible batch size. Discarding 19 samples...\n",
      "WARNING:neon.util.persist:deserializing object from:  /Users/tombocklisch/data/workout-cnn/workout-cnn.prm\n",
      "INFO:neon.models.mlp:commencing model fitting\n",
      "INFO:neon.models.mlp:epoch: 44, training error: 0.07751\n",
      "WARNING:neon.util.persist:serializing object to: /Users/tombocklisch/data/workout-cnn/workout-cnn.prm\n"
     ]
    },
    {
     "name": "stdout",
     "output_type": "stream",
     "text": [
      "\n",
      "Finished epoch 44"
     ]
    },
    {
     "name": "stderr",
     "output_type": "stream",
     "text": [
      "INFO:neon.models.mlp:Layers:\n",
      "\tDataLayer layer: 3 x (400 x 1) nodes\n",
      "\tConvLayer cv_1: 3 x (400 x 1) inputs, 16 x (396 x 1) nodes, RectLin act_fn\n",
      "\tPoolingLayer po_1: 16 x (396 x 1) inputs, 16 x (198 x 1) nodes, Linear act_fn\n",
      "\tConvLayer cv_2: 16 x (198 x 1) inputs, 32 x (194 x 1) nodes, RectLin act_fn\n",
      "\tPoolingLayer po_2: 32 x (194 x 1) inputs, 32 x (97 x 1) nodes, Linear act_fn\n",
      "\tDropOutLayer do_1: 32 x (97 x 1) inputs, 32 x (97 x 1) nodes, Linear act_fn\n",
      "\tFCLayer fc_1: 3104 inputs, 100 nodes, RectLin act_fn\n",
      "\tDropOutLayer do_2: 100 inputs, 100 nodes, Linear act_fn\n",
      "\tFCLayer fc_2: 100 inputs, 29 nodes, Logistic act_fn\n",
      "\tCostLayer cost: 29 nodes, CrossEntropy cost_fn\n",
      "\n",
      "WARNING:neon.datasets.dataset:Incompatible batch size. Discarding 13 samples...\n",
      "WARNING:neon.datasets.dataset:Incompatible batch size. Discarding 19 samples...\n",
      "WARNING:neon.datasets.dataset:Incompatible batch size. Discarding 13 samples...\n",
      "WARNING:neon.datasets.dataset:Incompatible batch size. Discarding 19 samples...\n",
      "WARNING:neon.util.persist:deserializing object from:  /Users/tombocklisch/data/workout-cnn/workout-cnn.prm\n",
      "INFO:neon.models.mlp:commencing model fitting\n",
      "INFO:neon.models.mlp:epoch: 45, training error: 0.07616\n",
      "WARNING:neon.util.persist:serializing object to: /Users/tombocklisch/data/workout-cnn/workout-cnn.prm\n"
     ]
    },
    {
     "name": "stdout",
     "output_type": "stream",
     "text": [
      "\n",
      "Finished epoch 45"
     ]
    },
    {
     "name": "stderr",
     "output_type": "stream",
     "text": [
      "INFO:neon.models.mlp:Layers:\n",
      "\tDataLayer layer: 3 x (400 x 1) nodes\n",
      "\tConvLayer cv_1: 3 x (400 x 1) inputs, 16 x (396 x 1) nodes, RectLin act_fn\n",
      "\tPoolingLayer po_1: 16 x (396 x 1) inputs, 16 x (198 x 1) nodes, Linear act_fn\n",
      "\tConvLayer cv_2: 16 x (198 x 1) inputs, 32 x (194 x 1) nodes, RectLin act_fn\n",
      "\tPoolingLayer po_2: 32 x (194 x 1) inputs, 32 x (97 x 1) nodes, Linear act_fn\n",
      "\tDropOutLayer do_1: 32 x (97 x 1) inputs, 32 x (97 x 1) nodes, Linear act_fn\n",
      "\tFCLayer fc_1: 3104 inputs, 100 nodes, RectLin act_fn\n",
      "\tDropOutLayer do_2: 100 inputs, 100 nodes, Linear act_fn\n",
      "\tFCLayer fc_2: 100 inputs, 29 nodes, Logistic act_fn\n",
      "\tCostLayer cost: 29 nodes, CrossEntropy cost_fn\n",
      "\n",
      "WARNING:neon.datasets.dataset:Incompatible batch size. Discarding 13 samples...\n",
      "WARNING:neon.datasets.dataset:Incompatible batch size. Discarding 19 samples...\n",
      "WARNING:neon.datasets.dataset:Incompatible batch size. Discarding 13 samples...\n",
      "WARNING:neon.datasets.dataset:Incompatible batch size. Discarding 19 samples...\n",
      "WARNING:neon.util.persist:deserializing object from:  /Users/tombocklisch/data/workout-cnn/workout-cnn.prm\n",
      "INFO:neon.models.mlp:commencing model fitting\n",
      "INFO:neon.models.mlp:epoch: 46, training error: 0.07479\n",
      "WARNING:neon.util.persist:serializing object to: /Users/tombocklisch/data/workout-cnn/workout-cnn.prm\n"
     ]
    },
    {
     "name": "stdout",
     "output_type": "stream",
     "text": [
      "\n",
      "Finished epoch 46"
     ]
    },
    {
     "name": "stderr",
     "output_type": "stream",
     "text": [
      "INFO:neon.models.mlp:Layers:\n",
      "\tDataLayer layer: 3 x (400 x 1) nodes\n",
      "\tConvLayer cv_1: 3 x (400 x 1) inputs, 16 x (396 x 1) nodes, RectLin act_fn\n",
      "\tPoolingLayer po_1: 16 x (396 x 1) inputs, 16 x (198 x 1) nodes, Linear act_fn\n",
      "\tConvLayer cv_2: 16 x (198 x 1) inputs, 32 x (194 x 1) nodes, RectLin act_fn\n",
      "\tPoolingLayer po_2: 32 x (194 x 1) inputs, 32 x (97 x 1) nodes, Linear act_fn\n",
      "\tDropOutLayer do_1: 32 x (97 x 1) inputs, 32 x (97 x 1) nodes, Linear act_fn\n",
      "\tFCLayer fc_1: 3104 inputs, 100 nodes, RectLin act_fn\n",
      "\tDropOutLayer do_2: 100 inputs, 100 nodes, Linear act_fn\n",
      "\tFCLayer fc_2: 100 inputs, 29 nodes, Logistic act_fn\n",
      "\tCostLayer cost: 29 nodes, CrossEntropy cost_fn\n",
      "\n",
      "WARNING:neon.datasets.dataset:Incompatible batch size. Discarding 13 samples...\n",
      "WARNING:neon.datasets.dataset:Incompatible batch size. Discarding 19 samples...\n",
      "WARNING:neon.datasets.dataset:Incompatible batch size. Discarding 13 samples...\n",
      "WARNING:neon.datasets.dataset:Incompatible batch size. Discarding 19 samples...\n",
      "WARNING:neon.util.persist:deserializing object from:  /Users/tombocklisch/data/workout-cnn/workout-cnn.prm\n",
      "INFO:neon.models.mlp:commencing model fitting\n",
      "INFO:neon.models.mlp:epoch: 47, training error: 0.07343\n",
      "WARNING:neon.util.persist:serializing object to: /Users/tombocklisch/data/workout-cnn/workout-cnn.prm\n"
     ]
    },
    {
     "name": "stdout",
     "output_type": "stream",
     "text": [
      "\n",
      "Finished epoch 47"
     ]
    },
    {
     "name": "stderr",
     "output_type": "stream",
     "text": [
      "INFO:neon.models.mlp:Layers:\n",
      "\tDataLayer layer: 3 x (400 x 1) nodes\n",
      "\tConvLayer cv_1: 3 x (400 x 1) inputs, 16 x (396 x 1) nodes, RectLin act_fn\n",
      "\tPoolingLayer po_1: 16 x (396 x 1) inputs, 16 x (198 x 1) nodes, Linear act_fn\n",
      "\tConvLayer cv_2: 16 x (198 x 1) inputs, 32 x (194 x 1) nodes, RectLin act_fn\n",
      "\tPoolingLayer po_2: 32 x (194 x 1) inputs, 32 x (97 x 1) nodes, Linear act_fn\n",
      "\tDropOutLayer do_1: 32 x (97 x 1) inputs, 32 x (97 x 1) nodes, Linear act_fn\n",
      "\tFCLayer fc_1: 3104 inputs, 100 nodes, RectLin act_fn\n",
      "\tDropOutLayer do_2: 100 inputs, 100 nodes, Linear act_fn\n",
      "\tFCLayer fc_2: 100 inputs, 29 nodes, Logistic act_fn\n",
      "\tCostLayer cost: 29 nodes, CrossEntropy cost_fn\n",
      "\n",
      "WARNING:neon.datasets.dataset:Incompatible batch size. Discarding 13 samples...\n",
      "WARNING:neon.datasets.dataset:Incompatible batch size. Discarding 19 samples...\n",
      "WARNING:neon.datasets.dataset:Incompatible batch size. Discarding 13 samples...\n",
      "WARNING:neon.datasets.dataset:Incompatible batch size. Discarding 19 samples...\n",
      "WARNING:neon.util.persist:deserializing object from:  /Users/tombocklisch/data/workout-cnn/workout-cnn.prm\n",
      "INFO:neon.models.mlp:commencing model fitting\n",
      "INFO:neon.models.mlp:epoch: 48, training error: 0.07225\n",
      "WARNING:neon.util.persist:serializing object to: /Users/tombocklisch/data/workout-cnn/workout-cnn.prm\n"
     ]
    },
    {
     "name": "stdout",
     "output_type": "stream",
     "text": [
      "\n",
      "Finished epoch 48"
     ]
    },
    {
     "name": "stderr",
     "output_type": "stream",
     "text": [
      "INFO:neon.models.mlp:Layers:\n",
      "\tDataLayer layer: 3 x (400 x 1) nodes\n",
      "\tConvLayer cv_1: 3 x (400 x 1) inputs, 16 x (396 x 1) nodes, RectLin act_fn\n",
      "\tPoolingLayer po_1: 16 x (396 x 1) inputs, 16 x (198 x 1) nodes, Linear act_fn\n",
      "\tConvLayer cv_2: 16 x (198 x 1) inputs, 32 x (194 x 1) nodes, RectLin act_fn\n",
      "\tPoolingLayer po_2: 32 x (194 x 1) inputs, 32 x (97 x 1) nodes, Linear act_fn\n",
      "\tDropOutLayer do_1: 32 x (97 x 1) inputs, 32 x (97 x 1) nodes, Linear act_fn\n",
      "\tFCLayer fc_1: 3104 inputs, 100 nodes, RectLin act_fn\n",
      "\tDropOutLayer do_2: 100 inputs, 100 nodes, Linear act_fn\n",
      "\tFCLayer fc_2: 100 inputs, 29 nodes, Logistic act_fn\n",
      "\tCostLayer cost: 29 nodes, CrossEntropy cost_fn\n",
      "\n",
      "WARNING:neon.datasets.dataset:Incompatible batch size. Discarding 13 samples...\n",
      "WARNING:neon.datasets.dataset:Incompatible batch size. Discarding 19 samples...\n",
      "WARNING:neon.datasets.dataset:Incompatible batch size. Discarding 13 samples...\n",
      "WARNING:neon.datasets.dataset:Incompatible batch size. Discarding 19 samples...\n",
      "WARNING:neon.util.persist:deserializing object from:  /Users/tombocklisch/data/workout-cnn/workout-cnn.prm\n",
      "INFO:neon.models.mlp:commencing model fitting\n",
      "INFO:neon.models.mlp:epoch: 49, training error: 0.07110\n",
      "WARNING:neon.util.persist:serializing object to: /Users/tombocklisch/data/workout-cnn/workout-cnn.prm\n"
     ]
    },
    {
     "name": "stdout",
     "output_type": "stream",
     "text": [
      "\n",
      "Finished epoch 49"
     ]
    },
    {
     "name": "stderr",
     "output_type": "stream",
     "text": [
      "INFO:neon.models.mlp:Layers:\n",
      "\tDataLayer layer: 3 x (400 x 1) nodes\n",
      "\tConvLayer cv_1: 3 x (400 x 1) inputs, 16 x (396 x 1) nodes, RectLin act_fn\n",
      "\tPoolingLayer po_1: 16 x (396 x 1) inputs, 16 x (198 x 1) nodes, Linear act_fn\n",
      "\tConvLayer cv_2: 16 x (198 x 1) inputs, 32 x (194 x 1) nodes, RectLin act_fn\n",
      "\tPoolingLayer po_2: 32 x (194 x 1) inputs, 32 x (97 x 1) nodes, Linear act_fn\n",
      "\tDropOutLayer do_1: 32 x (97 x 1) inputs, 32 x (97 x 1) nodes, Linear act_fn\n",
      "\tFCLayer fc_1: 3104 inputs, 100 nodes, RectLin act_fn\n",
      "\tDropOutLayer do_2: 100 inputs, 100 nodes, Linear act_fn\n",
      "\tFCLayer fc_2: 100 inputs, 29 nodes, Logistic act_fn\n",
      "\tCostLayer cost: 29 nodes, CrossEntropy cost_fn\n",
      "\n",
      "WARNING:neon.datasets.dataset:Incompatible batch size. Discarding 13 samples...\n",
      "WARNING:neon.datasets.dataset:Incompatible batch size. Discarding 19 samples...\n",
      "WARNING:neon.datasets.dataset:Incompatible batch size. Discarding 13 samples...\n",
      "WARNING:neon.datasets.dataset:Incompatible batch size. Discarding 19 samples...\n",
      "WARNING:neon.util.persist:deserializing object from:  /Users/tombocklisch/data/workout-cnn/workout-cnn.prm\n",
      "INFO:neon.models.mlp:commencing model fitting\n",
      "INFO:neon.models.mlp:epoch: 50, training error: 0.07009\n",
      "WARNING:neon.util.persist:serializing object to: /Users/tombocklisch/data/workout-cnn/workout-cnn.prm\n"
     ]
    },
    {
     "name": "stdout",
     "output_type": "stream",
     "text": [
      "\n",
      "Finished epoch 50"
     ]
    },
    {
     "name": "stderr",
     "output_type": "stream",
     "text": [
      "INFO:neon.models.mlp:Layers:\n",
      "\tDataLayer layer: 3 x (400 x 1) nodes\n",
      "\tConvLayer cv_1: 3 x (400 x 1) inputs, 16 x (396 x 1) nodes, RectLin act_fn\n",
      "\tPoolingLayer po_1: 16 x (396 x 1) inputs, 16 x (198 x 1) nodes, Linear act_fn\n",
      "\tConvLayer cv_2: 16 x (198 x 1) inputs, 32 x (194 x 1) nodes, RectLin act_fn\n",
      "\tPoolingLayer po_2: 32 x (194 x 1) inputs, 32 x (97 x 1) nodes, Linear act_fn\n",
      "\tDropOutLayer do_1: 32 x (97 x 1) inputs, 32 x (97 x 1) nodes, Linear act_fn\n",
      "\tFCLayer fc_1: 3104 inputs, 100 nodes, RectLin act_fn\n",
      "\tDropOutLayer do_2: 100 inputs, 100 nodes, Linear act_fn\n",
      "\tFCLayer fc_2: 100 inputs, 29 nodes, Logistic act_fn\n",
      "\tCostLayer cost: 29 nodes, CrossEntropy cost_fn\n",
      "\n",
      "WARNING:neon.datasets.dataset:Incompatible batch size. Discarding 13 samples...\n",
      "WARNING:neon.datasets.dataset:Incompatible batch size. Discarding 19 samples...\n",
      "WARNING:neon.datasets.dataset:Incompatible batch size. Discarding 13 samples...\n",
      "WARNING:neon.datasets.dataset:Incompatible batch size. Discarding 19 samples...\n",
      "WARNING:neon.util.persist:deserializing object from:  /Users/tombocklisch/data/workout-cnn/workout-cnn.prm\n",
      "INFO:neon.models.mlp:commencing model fitting\n",
      "INFO:neon.models.mlp:epoch: 51, training error: 0.06924\n",
      "WARNING:neon.util.persist:serializing object to: /Users/tombocklisch/data/workout-cnn/workout-cnn.prm\n"
     ]
    },
    {
     "name": "stdout",
     "output_type": "stream",
     "text": [
      "\n",
      "Finished epoch 51"
     ]
    },
    {
     "name": "stderr",
     "output_type": "stream",
     "text": [
      "INFO:neon.models.mlp:Layers:\n",
      "\tDataLayer layer: 3 x (400 x 1) nodes\n",
      "\tConvLayer cv_1: 3 x (400 x 1) inputs, 16 x (396 x 1) nodes, RectLin act_fn\n",
      "\tPoolingLayer po_1: 16 x (396 x 1) inputs, 16 x (198 x 1) nodes, Linear act_fn\n",
      "\tConvLayer cv_2: 16 x (198 x 1) inputs, 32 x (194 x 1) nodes, RectLin act_fn\n",
      "\tPoolingLayer po_2: 32 x (194 x 1) inputs, 32 x (97 x 1) nodes, Linear act_fn\n",
      "\tDropOutLayer do_1: 32 x (97 x 1) inputs, 32 x (97 x 1) nodes, Linear act_fn\n",
      "\tFCLayer fc_1: 3104 inputs, 100 nodes, RectLin act_fn\n",
      "\tDropOutLayer do_2: 100 inputs, 100 nodes, Linear act_fn\n",
      "\tFCLayer fc_2: 100 inputs, 29 nodes, Logistic act_fn\n",
      "\tCostLayer cost: 29 nodes, CrossEntropy cost_fn\n",
      "\n",
      "WARNING:neon.datasets.dataset:Incompatible batch size. Discarding 13 samples...\n",
      "WARNING:neon.datasets.dataset:Incompatible batch size. Discarding 19 samples...\n",
      "WARNING:neon.datasets.dataset:Incompatible batch size. Discarding 13 samples...\n",
      "WARNING:neon.datasets.dataset:Incompatible batch size. Discarding 19 samples...\n",
      "WARNING:neon.util.persist:deserializing object from:  /Users/tombocklisch/data/workout-cnn/workout-cnn.prm\n",
      "INFO:neon.models.mlp:commencing model fitting\n",
      "INFO:neon.models.mlp:epoch: 52, training error: 0.06819\n",
      "WARNING:neon.util.persist:serializing object to: /Users/tombocklisch/data/workout-cnn/workout-cnn.prm\n"
     ]
    },
    {
     "name": "stdout",
     "output_type": "stream",
     "text": [
      "\n",
      "Finished epoch 52"
     ]
    },
    {
     "name": "stderr",
     "output_type": "stream",
     "text": [
      "INFO:neon.models.mlp:Layers:\n",
      "\tDataLayer layer: 3 x (400 x 1) nodes\n",
      "\tConvLayer cv_1: 3 x (400 x 1) inputs, 16 x (396 x 1) nodes, RectLin act_fn\n",
      "\tPoolingLayer po_1: 16 x (396 x 1) inputs, 16 x (198 x 1) nodes, Linear act_fn\n",
      "\tConvLayer cv_2: 16 x (198 x 1) inputs, 32 x (194 x 1) nodes, RectLin act_fn\n",
      "\tPoolingLayer po_2: 32 x (194 x 1) inputs, 32 x (97 x 1) nodes, Linear act_fn\n",
      "\tDropOutLayer do_1: 32 x (97 x 1) inputs, 32 x (97 x 1) nodes, Linear act_fn\n",
      "\tFCLayer fc_1: 3104 inputs, 100 nodes, RectLin act_fn\n",
      "\tDropOutLayer do_2: 100 inputs, 100 nodes, Linear act_fn\n",
      "\tFCLayer fc_2: 100 inputs, 29 nodes, Logistic act_fn\n",
      "\tCostLayer cost: 29 nodes, CrossEntropy cost_fn\n",
      "\n",
      "WARNING:neon.datasets.dataset:Incompatible batch size. Discarding 13 samples...\n",
      "WARNING:neon.datasets.dataset:Incompatible batch size. Discarding 19 samples...\n",
      "WARNING:neon.datasets.dataset:Incompatible batch size. Discarding 13 samples...\n",
      "WARNING:neon.datasets.dataset:Incompatible batch size. Discarding 19 samples...\n",
      "WARNING:neon.util.persist:deserializing object from:  /Users/tombocklisch/data/workout-cnn/workout-cnn.prm\n",
      "INFO:neon.models.mlp:commencing model fitting\n",
      "INFO:neon.models.mlp:epoch: 53, training error: 0.06720\n",
      "WARNING:neon.util.persist:serializing object to: /Users/tombocklisch/data/workout-cnn/workout-cnn.prm\n"
     ]
    },
    {
     "name": "stdout",
     "output_type": "stream",
     "text": [
      "\n",
      "Finished epoch 53"
     ]
    },
    {
     "name": "stderr",
     "output_type": "stream",
     "text": [
      "INFO:neon.models.mlp:Layers:\n",
      "\tDataLayer layer: 3 x (400 x 1) nodes\n",
      "\tConvLayer cv_1: 3 x (400 x 1) inputs, 16 x (396 x 1) nodes, RectLin act_fn\n",
      "\tPoolingLayer po_1: 16 x (396 x 1) inputs, 16 x (198 x 1) nodes, Linear act_fn\n",
      "\tConvLayer cv_2: 16 x (198 x 1) inputs, 32 x (194 x 1) nodes, RectLin act_fn\n",
      "\tPoolingLayer po_2: 32 x (194 x 1) inputs, 32 x (97 x 1) nodes, Linear act_fn\n",
      "\tDropOutLayer do_1: 32 x (97 x 1) inputs, 32 x (97 x 1) nodes, Linear act_fn\n",
      "\tFCLayer fc_1: 3104 inputs, 100 nodes, RectLin act_fn\n",
      "\tDropOutLayer do_2: 100 inputs, 100 nodes, Linear act_fn\n",
      "\tFCLayer fc_2: 100 inputs, 29 nodes, Logistic act_fn\n",
      "\tCostLayer cost: 29 nodes, CrossEntropy cost_fn\n",
      "\n",
      "WARNING:neon.datasets.dataset:Incompatible batch size. Discarding 13 samples...\n",
      "WARNING:neon.datasets.dataset:Incompatible batch size. Discarding 19 samples...\n",
      "WARNING:neon.datasets.dataset:Incompatible batch size. Discarding 13 samples...\n",
      "WARNING:neon.datasets.dataset:Incompatible batch size. Discarding 19 samples...\n",
      "WARNING:neon.util.persist:deserializing object from:  /Users/tombocklisch/data/workout-cnn/workout-cnn.prm\n",
      "INFO:neon.models.mlp:commencing model fitting\n",
      "INFO:neon.models.mlp:epoch: 54, training error: 0.06627\n",
      "WARNING:neon.util.persist:serializing object to: /Users/tombocklisch/data/workout-cnn/workout-cnn.prm\n"
     ]
    },
    {
     "name": "stdout",
     "output_type": "stream",
     "text": [
      "\n",
      "Finished epoch 54"
     ]
    },
    {
     "name": "stderr",
     "output_type": "stream",
     "text": [
      "INFO:neon.models.mlp:Layers:\n",
      "\tDataLayer layer: 3 x (400 x 1) nodes\n",
      "\tConvLayer cv_1: 3 x (400 x 1) inputs, 16 x (396 x 1) nodes, RectLin act_fn\n",
      "\tPoolingLayer po_1: 16 x (396 x 1) inputs, 16 x (198 x 1) nodes, Linear act_fn\n",
      "\tConvLayer cv_2: 16 x (198 x 1) inputs, 32 x (194 x 1) nodes, RectLin act_fn\n",
      "\tPoolingLayer po_2: 32 x (194 x 1) inputs, 32 x (97 x 1) nodes, Linear act_fn\n",
      "\tDropOutLayer do_1: 32 x (97 x 1) inputs, 32 x (97 x 1) nodes, Linear act_fn\n",
      "\tFCLayer fc_1: 3104 inputs, 100 nodes, RectLin act_fn\n",
      "\tDropOutLayer do_2: 100 inputs, 100 nodes, Linear act_fn\n",
      "\tFCLayer fc_2: 100 inputs, 29 nodes, Logistic act_fn\n",
      "\tCostLayer cost: 29 nodes, CrossEntropy cost_fn\n",
      "\n",
      "WARNING:neon.datasets.dataset:Incompatible batch size. Discarding 13 samples...\n",
      "WARNING:neon.datasets.dataset:Incompatible batch size. Discarding 19 samples...\n",
      "WARNING:neon.datasets.dataset:Incompatible batch size. Discarding 13 samples...\n",
      "WARNING:neon.datasets.dataset:Incompatible batch size. Discarding 19 samples...\n",
      "WARNING:neon.util.persist:deserializing object from:  /Users/tombocklisch/data/workout-cnn/workout-cnn.prm\n",
      "INFO:neon.models.mlp:commencing model fitting\n",
      "INFO:neon.models.mlp:epoch: 55, training error: 0.06550\n",
      "WARNING:neon.util.persist:serializing object to: /Users/tombocklisch/data/workout-cnn/workout-cnn.prm\n"
     ]
    },
    {
     "name": "stdout",
     "output_type": "stream",
     "text": [
      "\n",
      "Finished epoch 55"
     ]
    },
    {
     "name": "stderr",
     "output_type": "stream",
     "text": [
      "INFO:neon.models.mlp:Layers:\n",
      "\tDataLayer layer: 3 x (400 x 1) nodes\n",
      "\tConvLayer cv_1: 3 x (400 x 1) inputs, 16 x (396 x 1) nodes, RectLin act_fn\n",
      "\tPoolingLayer po_1: 16 x (396 x 1) inputs, 16 x (198 x 1) nodes, Linear act_fn\n",
      "\tConvLayer cv_2: 16 x (198 x 1) inputs, 32 x (194 x 1) nodes, RectLin act_fn\n",
      "\tPoolingLayer po_2: 32 x (194 x 1) inputs, 32 x (97 x 1) nodes, Linear act_fn\n",
      "\tDropOutLayer do_1: 32 x (97 x 1) inputs, 32 x (97 x 1) nodes, Linear act_fn\n",
      "\tFCLayer fc_1: 3104 inputs, 100 nodes, RectLin act_fn\n",
      "\tDropOutLayer do_2: 100 inputs, 100 nodes, Linear act_fn\n",
      "\tFCLayer fc_2: 100 inputs, 29 nodes, Logistic act_fn\n",
      "\tCostLayer cost: 29 nodes, CrossEntropy cost_fn\n",
      "\n",
      "WARNING:neon.datasets.dataset:Incompatible batch size. Discarding 13 samples...\n",
      "WARNING:neon.datasets.dataset:Incompatible batch size. Discarding 19 samples...\n",
      "WARNING:neon.datasets.dataset:Incompatible batch size. Discarding 13 samples...\n",
      "WARNING:neon.datasets.dataset:Incompatible batch size. Discarding 19 samples...\n",
      "WARNING:neon.util.persist:deserializing object from:  /Users/tombocklisch/data/workout-cnn/workout-cnn.prm\n",
      "INFO:neon.models.mlp:commencing model fitting\n",
      "INFO:neon.models.mlp:epoch: 56, training error: 0.06437\n",
      "WARNING:neon.util.persist:serializing object to: /Users/tombocklisch/data/workout-cnn/workout-cnn.prm\n"
     ]
    },
    {
     "name": "stdout",
     "output_type": "stream",
     "text": [
      "\n",
      "Finished epoch 56"
     ]
    },
    {
     "name": "stderr",
     "output_type": "stream",
     "text": [
      "INFO:neon.models.mlp:Layers:\n",
      "\tDataLayer layer: 3 x (400 x 1) nodes\n",
      "\tConvLayer cv_1: 3 x (400 x 1) inputs, 16 x (396 x 1) nodes, RectLin act_fn\n",
      "\tPoolingLayer po_1: 16 x (396 x 1) inputs, 16 x (198 x 1) nodes, Linear act_fn\n",
      "\tConvLayer cv_2: 16 x (198 x 1) inputs, 32 x (194 x 1) nodes, RectLin act_fn\n",
      "\tPoolingLayer po_2: 32 x (194 x 1) inputs, 32 x (97 x 1) nodes, Linear act_fn\n",
      "\tDropOutLayer do_1: 32 x (97 x 1) inputs, 32 x (97 x 1) nodes, Linear act_fn\n",
      "\tFCLayer fc_1: 3104 inputs, 100 nodes, RectLin act_fn\n",
      "\tDropOutLayer do_2: 100 inputs, 100 nodes, Linear act_fn\n",
      "\tFCLayer fc_2: 100 inputs, 29 nodes, Logistic act_fn\n",
      "\tCostLayer cost: 29 nodes, CrossEntropy cost_fn\n",
      "\n",
      "WARNING:neon.datasets.dataset:Incompatible batch size. Discarding 13 samples...\n",
      "WARNING:neon.datasets.dataset:Incompatible batch size. Discarding 19 samples...\n",
      "WARNING:neon.datasets.dataset:Incompatible batch size. Discarding 13 samples...\n",
      "WARNING:neon.datasets.dataset:Incompatible batch size. Discarding 19 samples...\n",
      "WARNING:neon.util.persist:deserializing object from:  /Users/tombocklisch/data/workout-cnn/workout-cnn.prm\n",
      "INFO:neon.models.mlp:commencing model fitting\n",
      "INFO:neon.models.mlp:epoch: 57, training error: 0.06377\n",
      "WARNING:neon.util.persist:serializing object to: /Users/tombocklisch/data/workout-cnn/workout-cnn.prm\n"
     ]
    },
    {
     "name": "stdout",
     "output_type": "stream",
     "text": [
      "\n",
      "Finished epoch 57"
     ]
    },
    {
     "name": "stderr",
     "output_type": "stream",
     "text": [
      "INFO:neon.models.mlp:Layers:\n",
      "\tDataLayer layer: 3 x (400 x 1) nodes\n",
      "\tConvLayer cv_1: 3 x (400 x 1) inputs, 16 x (396 x 1) nodes, RectLin act_fn\n",
      "\tPoolingLayer po_1: 16 x (396 x 1) inputs, 16 x (198 x 1) nodes, Linear act_fn\n",
      "\tConvLayer cv_2: 16 x (198 x 1) inputs, 32 x (194 x 1) nodes, RectLin act_fn\n",
      "\tPoolingLayer po_2: 32 x (194 x 1) inputs, 32 x (97 x 1) nodes, Linear act_fn\n",
      "\tDropOutLayer do_1: 32 x (97 x 1) inputs, 32 x (97 x 1) nodes, Linear act_fn\n",
      "\tFCLayer fc_1: 3104 inputs, 100 nodes, RectLin act_fn\n",
      "\tDropOutLayer do_2: 100 inputs, 100 nodes, Linear act_fn\n",
      "\tFCLayer fc_2: 100 inputs, 29 nodes, Logistic act_fn\n",
      "\tCostLayer cost: 29 nodes, CrossEntropy cost_fn\n",
      "\n",
      "WARNING:neon.datasets.dataset:Incompatible batch size. Discarding 13 samples...\n",
      "WARNING:neon.datasets.dataset:Incompatible batch size. Discarding 19 samples...\n",
      "WARNING:neon.datasets.dataset:Incompatible batch size. Discarding 13 samples...\n",
      "WARNING:neon.datasets.dataset:Incompatible batch size. Discarding 19 samples...\n",
      "WARNING:neon.util.persist:deserializing object from:  /Users/tombocklisch/data/workout-cnn/workout-cnn.prm\n",
      "INFO:neon.models.mlp:commencing model fitting\n",
      "INFO:neon.models.mlp:epoch: 58, training error: 0.06272\n",
      "WARNING:neon.util.persist:serializing object to: /Users/tombocklisch/data/workout-cnn/workout-cnn.prm\n"
     ]
    },
    {
     "name": "stdout",
     "output_type": "stream",
     "text": [
      "\n",
      "Finished epoch 58"
     ]
    },
    {
     "name": "stderr",
     "output_type": "stream",
     "text": [
      "INFO:neon.models.mlp:Layers:\n",
      "\tDataLayer layer: 3 x (400 x 1) nodes\n",
      "\tConvLayer cv_1: 3 x (400 x 1) inputs, 16 x (396 x 1) nodes, RectLin act_fn\n",
      "\tPoolingLayer po_1: 16 x (396 x 1) inputs, 16 x (198 x 1) nodes, Linear act_fn\n",
      "\tConvLayer cv_2: 16 x (198 x 1) inputs, 32 x (194 x 1) nodes, RectLin act_fn\n",
      "\tPoolingLayer po_2: 32 x (194 x 1) inputs, 32 x (97 x 1) nodes, Linear act_fn\n",
      "\tDropOutLayer do_1: 32 x (97 x 1) inputs, 32 x (97 x 1) nodes, Linear act_fn\n",
      "\tFCLayer fc_1: 3104 inputs, 100 nodes, RectLin act_fn\n",
      "\tDropOutLayer do_2: 100 inputs, 100 nodes, Linear act_fn\n",
      "\tFCLayer fc_2: 100 inputs, 29 nodes, Logistic act_fn\n",
      "\tCostLayer cost: 29 nodes, CrossEntropy cost_fn\n",
      "\n",
      "WARNING:neon.datasets.dataset:Incompatible batch size. Discarding 13 samples...\n",
      "WARNING:neon.datasets.dataset:Incompatible batch size. Discarding 19 samples...\n",
      "WARNING:neon.datasets.dataset:Incompatible batch size. Discarding 13 samples...\n",
      "WARNING:neon.datasets.dataset:Incompatible batch size. Discarding 19 samples...\n",
      "WARNING:neon.util.persist:deserializing object from:  /Users/tombocklisch/data/workout-cnn/workout-cnn.prm\n",
      "INFO:neon.models.mlp:commencing model fitting\n",
      "INFO:neon.models.mlp:epoch: 59, training error: 0.06190\n",
      "WARNING:neon.util.persist:serializing object to: /Users/tombocklisch/data/workout-cnn/workout-cnn.prm\n"
     ]
    },
    {
     "name": "stdout",
     "output_type": "stream",
     "text": [
      "\n",
      "Finished epoch 59"
     ]
    },
    {
     "name": "stderr",
     "output_type": "stream",
     "text": [
      "INFO:neon.models.mlp:Layers:\n",
      "\tDataLayer layer: 3 x (400 x 1) nodes\n",
      "\tConvLayer cv_1: 3 x (400 x 1) inputs, 16 x (396 x 1) nodes, RectLin act_fn\n",
      "\tPoolingLayer po_1: 16 x (396 x 1) inputs, 16 x (198 x 1) nodes, Linear act_fn\n",
      "\tConvLayer cv_2: 16 x (198 x 1) inputs, 32 x (194 x 1) nodes, RectLin act_fn\n",
      "\tPoolingLayer po_2: 32 x (194 x 1) inputs, 32 x (97 x 1) nodes, Linear act_fn\n",
      "\tDropOutLayer do_1: 32 x (97 x 1) inputs, 32 x (97 x 1) nodes, Linear act_fn\n",
      "\tFCLayer fc_1: 3104 inputs, 100 nodes, RectLin act_fn\n",
      "\tDropOutLayer do_2: 100 inputs, 100 nodes, Linear act_fn\n",
      "\tFCLayer fc_2: 100 inputs, 29 nodes, Logistic act_fn\n",
      "\tCostLayer cost: 29 nodes, CrossEntropy cost_fn\n",
      "\n",
      "WARNING:neon.datasets.dataset:Incompatible batch size. Discarding 13 samples...\n",
      "WARNING:neon.datasets.dataset:Incompatible batch size. Discarding 19 samples...\n",
      "WARNING:neon.datasets.dataset:Incompatible batch size. Discarding 13 samples...\n",
      "WARNING:neon.datasets.dataset:Incompatible batch size. Discarding 19 samples...\n",
      "WARNING:neon.util.persist:deserializing object from:  /Users/tombocklisch/data/workout-cnn/workout-cnn.prm\n",
      "INFO:neon.models.mlp:commencing model fitting\n",
      "INFO:neon.models.mlp:epoch: 60, training error: 0.06101\n",
      "WARNING:neon.util.persist:serializing object to: /Users/tombocklisch/data/workout-cnn/workout-cnn.prm\n"
     ]
    },
    {
     "name": "stdout",
     "output_type": "stream",
     "text": [
      "\n",
      "Finished epoch 60"
     ]
    },
    {
     "name": "stderr",
     "output_type": "stream",
     "text": [
      "INFO:neon.models.mlp:Layers:\n",
      "\tDataLayer layer: 3 x (400 x 1) nodes\n",
      "\tConvLayer cv_1: 3 x (400 x 1) inputs, 16 x (396 x 1) nodes, RectLin act_fn\n",
      "\tPoolingLayer po_1: 16 x (396 x 1) inputs, 16 x (198 x 1) nodes, Linear act_fn\n",
      "\tConvLayer cv_2: 16 x (198 x 1) inputs, 32 x (194 x 1) nodes, RectLin act_fn\n",
      "\tPoolingLayer po_2: 32 x (194 x 1) inputs, 32 x (97 x 1) nodes, Linear act_fn\n",
      "\tDropOutLayer do_1: 32 x (97 x 1) inputs, 32 x (97 x 1) nodes, Linear act_fn\n",
      "\tFCLayer fc_1: 3104 inputs, 100 nodes, RectLin act_fn\n",
      "\tDropOutLayer do_2: 100 inputs, 100 nodes, Linear act_fn\n",
      "\tFCLayer fc_2: 100 inputs, 29 nodes, Logistic act_fn\n",
      "\tCostLayer cost: 29 nodes, CrossEntropy cost_fn\n",
      "\n",
      "WARNING:neon.datasets.dataset:Incompatible batch size. Discarding 13 samples...\n",
      "WARNING:neon.datasets.dataset:Incompatible batch size. Discarding 19 samples...\n",
      "WARNING:neon.datasets.dataset:Incompatible batch size. Discarding 13 samples...\n",
      "WARNING:neon.datasets.dataset:Incompatible batch size. Discarding 19 samples...\n",
      "WARNING:neon.util.persist:deserializing object from:  /Users/tombocklisch/data/workout-cnn/workout-cnn.prm\n",
      "INFO:neon.models.mlp:commencing model fitting\n",
      "INFO:neon.models.mlp:epoch: 61, training error: 0.05833\n",
      "WARNING:neon.util.persist:serializing object to: /Users/tombocklisch/data/workout-cnn/workout-cnn.prm\n"
     ]
    },
    {
     "name": "stdout",
     "output_type": "stream",
     "text": [
      "\n",
      "Finished epoch 61"
     ]
    },
    {
     "name": "stderr",
     "output_type": "stream",
     "text": [
      "INFO:neon.models.mlp:Layers:\n",
      "\tDataLayer layer: 3 x (400 x 1) nodes\n",
      "\tConvLayer cv_1: 3 x (400 x 1) inputs, 16 x (396 x 1) nodes, RectLin act_fn\n",
      "\tPoolingLayer po_1: 16 x (396 x 1) inputs, 16 x (198 x 1) nodes, Linear act_fn\n",
      "\tConvLayer cv_2: 16 x (198 x 1) inputs, 32 x (194 x 1) nodes, RectLin act_fn\n",
      "\tPoolingLayer po_2: 32 x (194 x 1) inputs, 32 x (97 x 1) nodes, Linear act_fn\n",
      "\tDropOutLayer do_1: 32 x (97 x 1) inputs, 32 x (97 x 1) nodes, Linear act_fn\n",
      "\tFCLayer fc_1: 3104 inputs, 100 nodes, RectLin act_fn\n",
      "\tDropOutLayer do_2: 100 inputs, 100 nodes, Linear act_fn\n",
      "\tFCLayer fc_2: 100 inputs, 29 nodes, Logistic act_fn\n",
      "\tCostLayer cost: 29 nodes, CrossEntropy cost_fn\n",
      "\n",
      "WARNING:neon.datasets.dataset:Incompatible batch size. Discarding 13 samples...\n",
      "WARNING:neon.datasets.dataset:Incompatible batch size. Discarding 19 samples...\n",
      "WARNING:neon.datasets.dataset:Incompatible batch size. Discarding 13 samples...\n",
      "WARNING:neon.datasets.dataset:Incompatible batch size. Discarding 19 samples...\n",
      "WARNING:neon.util.persist:deserializing object from:  /Users/tombocklisch/data/workout-cnn/workout-cnn.prm\n",
      "INFO:neon.models.mlp:commencing model fitting\n",
      "INFO:neon.models.mlp:epoch: 62, training error: 0.05705\n",
      "WARNING:neon.util.persist:serializing object to: /Users/tombocklisch/data/workout-cnn/workout-cnn.prm\n"
     ]
    },
    {
     "name": "stdout",
     "output_type": "stream",
     "text": [
      "\n",
      "Finished epoch 62"
     ]
    },
    {
     "name": "stderr",
     "output_type": "stream",
     "text": [
      "INFO:neon.models.mlp:Layers:\n",
      "\tDataLayer layer: 3 x (400 x 1) nodes\n",
      "\tConvLayer cv_1: 3 x (400 x 1) inputs, 16 x (396 x 1) nodes, RectLin act_fn\n",
      "\tPoolingLayer po_1: 16 x (396 x 1) inputs, 16 x (198 x 1) nodes, Linear act_fn\n",
      "\tConvLayer cv_2: 16 x (198 x 1) inputs, 32 x (194 x 1) nodes, RectLin act_fn\n",
      "\tPoolingLayer po_2: 32 x (194 x 1) inputs, 32 x (97 x 1) nodes, Linear act_fn\n",
      "\tDropOutLayer do_1: 32 x (97 x 1) inputs, 32 x (97 x 1) nodes, Linear act_fn\n",
      "\tFCLayer fc_1: 3104 inputs, 100 nodes, RectLin act_fn\n",
      "\tDropOutLayer do_2: 100 inputs, 100 nodes, Linear act_fn\n",
      "\tFCLayer fc_2: 100 inputs, 29 nodes, Logistic act_fn\n",
      "\tCostLayer cost: 29 nodes, CrossEntropy cost_fn\n",
      "\n",
      "WARNING:neon.datasets.dataset:Incompatible batch size. Discarding 13 samples...\n",
      "WARNING:neon.datasets.dataset:Incompatible batch size. Discarding 19 samples...\n",
      "WARNING:neon.datasets.dataset:Incompatible batch size. Discarding 13 samples...\n",
      "WARNING:neon.datasets.dataset:Incompatible batch size. Discarding 19 samples...\n",
      "WARNING:neon.util.persist:deserializing object from:  /Users/tombocklisch/data/workout-cnn/workout-cnn.prm\n",
      "INFO:neon.models.mlp:commencing model fitting\n",
      "INFO:neon.models.mlp:epoch: 63, training error: 0.05655\n",
      "WARNING:neon.util.persist:serializing object to: /Users/tombocklisch/data/workout-cnn/workout-cnn.prm\n"
     ]
    },
    {
     "name": "stdout",
     "output_type": "stream",
     "text": [
      "\n",
      "Finished epoch 63"
     ]
    },
    {
     "name": "stderr",
     "output_type": "stream",
     "text": [
      "INFO:neon.models.mlp:Layers:\n",
      "\tDataLayer layer: 3 x (400 x 1) nodes\n",
      "\tConvLayer cv_1: 3 x (400 x 1) inputs, 16 x (396 x 1) nodes, RectLin act_fn\n",
      "\tPoolingLayer po_1: 16 x (396 x 1) inputs, 16 x (198 x 1) nodes, Linear act_fn\n",
      "\tConvLayer cv_2: 16 x (198 x 1) inputs, 32 x (194 x 1) nodes, RectLin act_fn\n",
      "\tPoolingLayer po_2: 32 x (194 x 1) inputs, 32 x (97 x 1) nodes, Linear act_fn\n",
      "\tDropOutLayer do_1: 32 x (97 x 1) inputs, 32 x (97 x 1) nodes, Linear act_fn\n",
      "\tFCLayer fc_1: 3104 inputs, 100 nodes, RectLin act_fn\n",
      "\tDropOutLayer do_2: 100 inputs, 100 nodes, Linear act_fn\n",
      "\tFCLayer fc_2: 100 inputs, 29 nodes, Logistic act_fn\n",
      "\tCostLayer cost: 29 nodes, CrossEntropy cost_fn\n",
      "\n",
      "WARNING:neon.datasets.dataset:Incompatible batch size. Discarding 13 samples...\n",
      "WARNING:neon.datasets.dataset:Incompatible batch size. Discarding 19 samples...\n",
      "WARNING:neon.datasets.dataset:Incompatible batch size. Discarding 13 samples...\n",
      "WARNING:neon.datasets.dataset:Incompatible batch size. Discarding 19 samples...\n",
      "WARNING:neon.util.persist:deserializing object from:  /Users/tombocklisch/data/workout-cnn/workout-cnn.prm\n",
      "INFO:neon.models.mlp:commencing model fitting\n",
      "INFO:neon.models.mlp:epoch: 64, training error: 0.05618\n",
      "WARNING:neon.util.persist:serializing object to: /Users/tombocklisch/data/workout-cnn/workout-cnn.prm\n"
     ]
    },
    {
     "name": "stdout",
     "output_type": "stream",
     "text": [
      "\n",
      "Finished epoch 64"
     ]
    },
    {
     "name": "stderr",
     "output_type": "stream",
     "text": [
      "INFO:neon.models.mlp:Layers:\n",
      "\tDataLayer layer: 3 x (400 x 1) nodes\n",
      "\tConvLayer cv_1: 3 x (400 x 1) inputs, 16 x (396 x 1) nodes, RectLin act_fn\n",
      "\tPoolingLayer po_1: 16 x (396 x 1) inputs, 16 x (198 x 1) nodes, Linear act_fn\n",
      "\tConvLayer cv_2: 16 x (198 x 1) inputs, 32 x (194 x 1) nodes, RectLin act_fn\n",
      "\tPoolingLayer po_2: 32 x (194 x 1) inputs, 32 x (97 x 1) nodes, Linear act_fn\n",
      "\tDropOutLayer do_1: 32 x (97 x 1) inputs, 32 x (97 x 1) nodes, Linear act_fn\n",
      "\tFCLayer fc_1: 3104 inputs, 100 nodes, RectLin act_fn\n",
      "\tDropOutLayer do_2: 100 inputs, 100 nodes, Linear act_fn\n",
      "\tFCLayer fc_2: 100 inputs, 29 nodes, Logistic act_fn\n",
      "\tCostLayer cost: 29 nodes, CrossEntropy cost_fn\n",
      "\n",
      "WARNING:neon.datasets.dataset:Incompatible batch size. Discarding 13 samples...\n",
      "WARNING:neon.datasets.dataset:Incompatible batch size. Discarding 19 samples...\n",
      "WARNING:neon.datasets.dataset:Incompatible batch size. Discarding 13 samples...\n",
      "WARNING:neon.datasets.dataset:Incompatible batch size. Discarding 19 samples...\n",
      "WARNING:neon.util.persist:deserializing object from:  /Users/tombocklisch/data/workout-cnn/workout-cnn.prm\n",
      "INFO:neon.models.mlp:commencing model fitting\n",
      "INFO:neon.models.mlp:epoch: 65, training error: 0.05582\n",
      "WARNING:neon.util.persist:serializing object to: /Users/tombocklisch/data/workout-cnn/workout-cnn.prm\n"
     ]
    },
    {
     "name": "stdout",
     "output_type": "stream",
     "text": [
      "\n",
      "Finished epoch 65"
     ]
    },
    {
     "name": "stderr",
     "output_type": "stream",
     "text": [
      "INFO:neon.models.mlp:Layers:\n",
      "\tDataLayer layer: 3 x (400 x 1) nodes\n",
      "\tConvLayer cv_1: 3 x (400 x 1) inputs, 16 x (396 x 1) nodes, RectLin act_fn\n",
      "\tPoolingLayer po_1: 16 x (396 x 1) inputs, 16 x (198 x 1) nodes, Linear act_fn\n",
      "\tConvLayer cv_2: 16 x (198 x 1) inputs, 32 x (194 x 1) nodes, RectLin act_fn\n",
      "\tPoolingLayer po_2: 32 x (194 x 1) inputs, 32 x (97 x 1) nodes, Linear act_fn\n",
      "\tDropOutLayer do_1: 32 x (97 x 1) inputs, 32 x (97 x 1) nodes, Linear act_fn\n",
      "\tFCLayer fc_1: 3104 inputs, 100 nodes, RectLin act_fn\n",
      "\tDropOutLayer do_2: 100 inputs, 100 nodes, Linear act_fn\n",
      "\tFCLayer fc_2: 100 inputs, 29 nodes, Logistic act_fn\n",
      "\tCostLayer cost: 29 nodes, CrossEntropy cost_fn\n",
      "\n",
      "WARNING:neon.datasets.dataset:Incompatible batch size. Discarding 13 samples...\n",
      "WARNING:neon.datasets.dataset:Incompatible batch size. Discarding 19 samples...\n",
      "WARNING:neon.datasets.dataset:Incompatible batch size. Discarding 13 samples...\n",
      "WARNING:neon.datasets.dataset:Incompatible batch size. Discarding 19 samples...\n",
      "WARNING:neon.util.persist:deserializing object from:  /Users/tombocklisch/data/workout-cnn/workout-cnn.prm\n",
      "INFO:neon.models.mlp:commencing model fitting\n",
      "INFO:neon.models.mlp:epoch: 66, training error: 0.05549\n",
      "WARNING:neon.util.persist:serializing object to: /Users/tombocklisch/data/workout-cnn/workout-cnn.prm\n"
     ]
    },
    {
     "name": "stdout",
     "output_type": "stream",
     "text": [
      "\n",
      "Finished epoch 66"
     ]
    },
    {
     "name": "stderr",
     "output_type": "stream",
     "text": [
      "INFO:neon.models.mlp:Layers:\n",
      "\tDataLayer layer: 3 x (400 x 1) nodes\n",
      "\tConvLayer cv_1: 3 x (400 x 1) inputs, 16 x (396 x 1) nodes, RectLin act_fn\n",
      "\tPoolingLayer po_1: 16 x (396 x 1) inputs, 16 x (198 x 1) nodes, Linear act_fn\n",
      "\tConvLayer cv_2: 16 x (198 x 1) inputs, 32 x (194 x 1) nodes, RectLin act_fn\n",
      "\tPoolingLayer po_2: 32 x (194 x 1) inputs, 32 x (97 x 1) nodes, Linear act_fn\n",
      "\tDropOutLayer do_1: 32 x (97 x 1) inputs, 32 x (97 x 1) nodes, Linear act_fn\n",
      "\tFCLayer fc_1: 3104 inputs, 100 nodes, RectLin act_fn\n",
      "\tDropOutLayer do_2: 100 inputs, 100 nodes, Linear act_fn\n",
      "\tFCLayer fc_2: 100 inputs, 29 nodes, Logistic act_fn\n",
      "\tCostLayer cost: 29 nodes, CrossEntropy cost_fn\n",
      "\n",
      "WARNING:neon.datasets.dataset:Incompatible batch size. Discarding 13 samples...\n",
      "WARNING:neon.datasets.dataset:Incompatible batch size. Discarding 19 samples...\n",
      "WARNING:neon.datasets.dataset:Incompatible batch size. Discarding 13 samples...\n",
      "WARNING:neon.datasets.dataset:Incompatible batch size. Discarding 19 samples...\n",
      "WARNING:neon.util.persist:deserializing object from:  /Users/tombocklisch/data/workout-cnn/workout-cnn.prm\n",
      "INFO:neon.models.mlp:commencing model fitting\n",
      "INFO:neon.models.mlp:epoch: 67, training error: 0.05523\n",
      "WARNING:neon.util.persist:serializing object to: /Users/tombocklisch/data/workout-cnn/workout-cnn.prm\n"
     ]
    },
    {
     "name": "stdout",
     "output_type": "stream",
     "text": [
      "\n",
      "Finished epoch 67"
     ]
    },
    {
     "name": "stderr",
     "output_type": "stream",
     "text": [
      "INFO:neon.models.mlp:Layers:\n",
      "\tDataLayer layer: 3 x (400 x 1) nodes\n",
      "\tConvLayer cv_1: 3 x (400 x 1) inputs, 16 x (396 x 1) nodes, RectLin act_fn\n",
      "\tPoolingLayer po_1: 16 x (396 x 1) inputs, 16 x (198 x 1) nodes, Linear act_fn\n",
      "\tConvLayer cv_2: 16 x (198 x 1) inputs, 32 x (194 x 1) nodes, RectLin act_fn\n",
      "\tPoolingLayer po_2: 32 x (194 x 1) inputs, 32 x (97 x 1) nodes, Linear act_fn\n",
      "\tDropOutLayer do_1: 32 x (97 x 1) inputs, 32 x (97 x 1) nodes, Linear act_fn\n",
      "\tFCLayer fc_1: 3104 inputs, 100 nodes, RectLin act_fn\n",
      "\tDropOutLayer do_2: 100 inputs, 100 nodes, Linear act_fn\n",
      "\tFCLayer fc_2: 100 inputs, 29 nodes, Logistic act_fn\n",
      "\tCostLayer cost: 29 nodes, CrossEntropy cost_fn\n",
      "\n",
      "WARNING:neon.datasets.dataset:Incompatible batch size. Discarding 13 samples...\n",
      "WARNING:neon.datasets.dataset:Incompatible batch size. Discarding 19 samples...\n",
      "WARNING:neon.datasets.dataset:Incompatible batch size. Discarding 13 samples...\n",
      "WARNING:neon.datasets.dataset:Incompatible batch size. Discarding 19 samples...\n",
      "WARNING:neon.util.persist:deserializing object from:  /Users/tombocklisch/data/workout-cnn/workout-cnn.prm\n",
      "INFO:neon.models.mlp:commencing model fitting\n",
      "INFO:neon.models.mlp:epoch: 68, training error: 0.05488\n",
      "WARNING:neon.util.persist:serializing object to: /Users/tombocklisch/data/workout-cnn/workout-cnn.prm\n"
     ]
    },
    {
     "name": "stdout",
     "output_type": "stream",
     "text": [
      "\n",
      "Finished epoch 68"
     ]
    },
    {
     "name": "stderr",
     "output_type": "stream",
     "text": [
      "INFO:neon.models.mlp:Layers:\n",
      "\tDataLayer layer: 3 x (400 x 1) nodes\n",
      "\tConvLayer cv_1: 3 x (400 x 1) inputs, 16 x (396 x 1) nodes, RectLin act_fn\n",
      "\tPoolingLayer po_1: 16 x (396 x 1) inputs, 16 x (198 x 1) nodes, Linear act_fn\n",
      "\tConvLayer cv_2: 16 x (198 x 1) inputs, 32 x (194 x 1) nodes, RectLin act_fn\n",
      "\tPoolingLayer po_2: 32 x (194 x 1) inputs, 32 x (97 x 1) nodes, Linear act_fn\n",
      "\tDropOutLayer do_1: 32 x (97 x 1) inputs, 32 x (97 x 1) nodes, Linear act_fn\n",
      "\tFCLayer fc_1: 3104 inputs, 100 nodes, RectLin act_fn\n",
      "\tDropOutLayer do_2: 100 inputs, 100 nodes, Linear act_fn\n",
      "\tFCLayer fc_2: 100 inputs, 29 nodes, Logistic act_fn\n",
      "\tCostLayer cost: 29 nodes, CrossEntropy cost_fn\n",
      "\n",
      "WARNING:neon.datasets.dataset:Incompatible batch size. Discarding 13 samples...\n",
      "WARNING:neon.datasets.dataset:Incompatible batch size. Discarding 19 samples...\n",
      "WARNING:neon.datasets.dataset:Incompatible batch size. Discarding 13 samples...\n",
      "WARNING:neon.datasets.dataset:Incompatible batch size. Discarding 19 samples...\n",
      "WARNING:neon.util.persist:deserializing object from:  /Users/tombocklisch/data/workout-cnn/workout-cnn.prm\n",
      "INFO:neon.models.mlp:commencing model fitting\n",
      "INFO:neon.models.mlp:epoch: 69, training error: 0.05459\n",
      "WARNING:neon.util.persist:serializing object to: /Users/tombocklisch/data/workout-cnn/workout-cnn.prm\n"
     ]
    },
    {
     "name": "stdout",
     "output_type": "stream",
     "text": [
      "\n",
      "Finished epoch 69"
     ]
    },
    {
     "name": "stderr",
     "output_type": "stream",
     "text": [
      "INFO:neon.models.mlp:Layers:\n",
      "\tDataLayer layer: 3 x (400 x 1) nodes\n",
      "\tConvLayer cv_1: 3 x (400 x 1) inputs, 16 x (396 x 1) nodes, RectLin act_fn\n",
      "\tPoolingLayer po_1: 16 x (396 x 1) inputs, 16 x (198 x 1) nodes, Linear act_fn\n",
      "\tConvLayer cv_2: 16 x (198 x 1) inputs, 32 x (194 x 1) nodes, RectLin act_fn\n",
      "\tPoolingLayer po_2: 32 x (194 x 1) inputs, 32 x (97 x 1) nodes, Linear act_fn\n",
      "\tDropOutLayer do_1: 32 x (97 x 1) inputs, 32 x (97 x 1) nodes, Linear act_fn\n",
      "\tFCLayer fc_1: 3104 inputs, 100 nodes, RectLin act_fn\n",
      "\tDropOutLayer do_2: 100 inputs, 100 nodes, Linear act_fn\n",
      "\tFCLayer fc_2: 100 inputs, 29 nodes, Logistic act_fn\n",
      "\tCostLayer cost: 29 nodes, CrossEntropy cost_fn\n",
      "\n",
      "WARNING:neon.datasets.dataset:Incompatible batch size. Discarding 13 samples...\n",
      "WARNING:neon.datasets.dataset:Incompatible batch size. Discarding 19 samples...\n",
      "WARNING:neon.datasets.dataset:Incompatible batch size. Discarding 13 samples...\n",
      "WARNING:neon.datasets.dataset:Incompatible batch size. Discarding 19 samples...\n",
      "WARNING:neon.util.persist:deserializing object from:  /Users/tombocklisch/data/workout-cnn/workout-cnn.prm\n",
      "INFO:neon.models.mlp:commencing model fitting\n",
      "INFO:neon.models.mlp:epoch: 70, training error: 0.05430\n",
      "WARNING:neon.util.persist:serializing object to: /Users/tombocklisch/data/workout-cnn/workout-cnn.prm\n"
     ]
    },
    {
     "name": "stdout",
     "output_type": "stream",
     "text": [
      "\n",
      "Finished epoch 70"
     ]
    },
    {
     "name": "stderr",
     "output_type": "stream",
     "text": [
      "INFO:neon.models.mlp:Layers:\n",
      "\tDataLayer layer: 3 x (400 x 1) nodes\n",
      "\tConvLayer cv_1: 3 x (400 x 1) inputs, 16 x (396 x 1) nodes, RectLin act_fn\n",
      "\tPoolingLayer po_1: 16 x (396 x 1) inputs, 16 x (198 x 1) nodes, Linear act_fn\n",
      "\tConvLayer cv_2: 16 x (198 x 1) inputs, 32 x (194 x 1) nodes, RectLin act_fn\n",
      "\tPoolingLayer po_2: 32 x (194 x 1) inputs, 32 x (97 x 1) nodes, Linear act_fn\n",
      "\tDropOutLayer do_1: 32 x (97 x 1) inputs, 32 x (97 x 1) nodes, Linear act_fn\n",
      "\tFCLayer fc_1: 3104 inputs, 100 nodes, RectLin act_fn\n",
      "\tDropOutLayer do_2: 100 inputs, 100 nodes, Linear act_fn\n",
      "\tFCLayer fc_2: 100 inputs, 29 nodes, Logistic act_fn\n",
      "\tCostLayer cost: 29 nodes, CrossEntropy cost_fn\n",
      "\n",
      "WARNING:neon.datasets.dataset:Incompatible batch size. Discarding 13 samples...\n",
      "WARNING:neon.datasets.dataset:Incompatible batch size. Discarding 19 samples...\n",
      "WARNING:neon.datasets.dataset:Incompatible batch size. Discarding 13 samples...\n",
      "WARNING:neon.datasets.dataset:Incompatible batch size. Discarding 19 samples...\n",
      "WARNING:neon.util.persist:deserializing object from:  /Users/tombocklisch/data/workout-cnn/workout-cnn.prm\n",
      "INFO:neon.models.mlp:commencing model fitting\n",
      "INFO:neon.models.mlp:epoch: 71, training error: 0.05402\n",
      "WARNING:neon.util.persist:serializing object to: /Users/tombocklisch/data/workout-cnn/workout-cnn.prm\n"
     ]
    },
    {
     "name": "stdout",
     "output_type": "stream",
     "text": [
      "\n",
      "Finished epoch 71"
     ]
    },
    {
     "name": "stderr",
     "output_type": "stream",
     "text": [
      "INFO:neon.models.mlp:Layers:\n",
      "\tDataLayer layer: 3 x (400 x 1) nodes\n",
      "\tConvLayer cv_1: 3 x (400 x 1) inputs, 16 x (396 x 1) nodes, RectLin act_fn\n",
      "\tPoolingLayer po_1: 16 x (396 x 1) inputs, 16 x (198 x 1) nodes, Linear act_fn\n",
      "\tConvLayer cv_2: 16 x (198 x 1) inputs, 32 x (194 x 1) nodes, RectLin act_fn\n",
      "\tPoolingLayer po_2: 32 x (194 x 1) inputs, 32 x (97 x 1) nodes, Linear act_fn\n",
      "\tDropOutLayer do_1: 32 x (97 x 1) inputs, 32 x (97 x 1) nodes, Linear act_fn\n",
      "\tFCLayer fc_1: 3104 inputs, 100 nodes, RectLin act_fn\n",
      "\tDropOutLayer do_2: 100 inputs, 100 nodes, Linear act_fn\n",
      "\tFCLayer fc_2: 100 inputs, 29 nodes, Logistic act_fn\n",
      "\tCostLayer cost: 29 nodes, CrossEntropy cost_fn\n",
      "\n",
      "WARNING:neon.datasets.dataset:Incompatible batch size. Discarding 13 samples...\n",
      "WARNING:neon.datasets.dataset:Incompatible batch size. Discarding 19 samples...\n",
      "WARNING:neon.datasets.dataset:Incompatible batch size. Discarding 13 samples...\n",
      "WARNING:neon.datasets.dataset:Incompatible batch size. Discarding 19 samples...\n",
      "WARNING:neon.util.persist:deserializing object from:  /Users/tombocklisch/data/workout-cnn/workout-cnn.prm\n",
      "INFO:neon.models.mlp:commencing model fitting\n",
      "INFO:neon.models.mlp:epoch: 72, training error: 0.05376\n",
      "WARNING:neon.util.persist:serializing object to: /Users/tombocklisch/data/workout-cnn/workout-cnn.prm\n"
     ]
    },
    {
     "name": "stdout",
     "output_type": "stream",
     "text": [
      "\n",
      "Finished epoch 72"
     ]
    },
    {
     "name": "stderr",
     "output_type": "stream",
     "text": [
      "INFO:neon.models.mlp:Layers:\n",
      "\tDataLayer layer: 3 x (400 x 1) nodes\n",
      "\tConvLayer cv_1: 3 x (400 x 1) inputs, 16 x (396 x 1) nodes, RectLin act_fn\n",
      "\tPoolingLayer po_1: 16 x (396 x 1) inputs, 16 x (198 x 1) nodes, Linear act_fn\n",
      "\tConvLayer cv_2: 16 x (198 x 1) inputs, 32 x (194 x 1) nodes, RectLin act_fn\n",
      "\tPoolingLayer po_2: 32 x (194 x 1) inputs, 32 x (97 x 1) nodes, Linear act_fn\n",
      "\tDropOutLayer do_1: 32 x (97 x 1) inputs, 32 x (97 x 1) nodes, Linear act_fn\n",
      "\tFCLayer fc_1: 3104 inputs, 100 nodes, RectLin act_fn\n",
      "\tDropOutLayer do_2: 100 inputs, 100 nodes, Linear act_fn\n",
      "\tFCLayer fc_2: 100 inputs, 29 nodes, Logistic act_fn\n",
      "\tCostLayer cost: 29 nodes, CrossEntropy cost_fn\n",
      "\n",
      "WARNING:neon.datasets.dataset:Incompatible batch size. Discarding 13 samples...\n",
      "WARNING:neon.datasets.dataset:Incompatible batch size. Discarding 19 samples...\n",
      "WARNING:neon.datasets.dataset:Incompatible batch size. Discarding 13 samples...\n",
      "WARNING:neon.datasets.dataset:Incompatible batch size. Discarding 19 samples...\n",
      "WARNING:neon.util.persist:deserializing object from:  /Users/tombocklisch/data/workout-cnn/workout-cnn.prm\n",
      "INFO:neon.models.mlp:commencing model fitting\n",
      "INFO:neon.models.mlp:epoch: 73, training error: 0.05347\n",
      "WARNING:neon.util.persist:serializing object to: /Users/tombocklisch/data/workout-cnn/workout-cnn.prm\n"
     ]
    },
    {
     "name": "stdout",
     "output_type": "stream",
     "text": [
      "\n",
      "Finished epoch 73"
     ]
    },
    {
     "name": "stderr",
     "output_type": "stream",
     "text": [
      "INFO:neon.models.mlp:Layers:\n",
      "\tDataLayer layer: 3 x (400 x 1) nodes\n",
      "\tConvLayer cv_1: 3 x (400 x 1) inputs, 16 x (396 x 1) nodes, RectLin act_fn\n",
      "\tPoolingLayer po_1: 16 x (396 x 1) inputs, 16 x (198 x 1) nodes, Linear act_fn\n",
      "\tConvLayer cv_2: 16 x (198 x 1) inputs, 32 x (194 x 1) nodes, RectLin act_fn\n",
      "\tPoolingLayer po_2: 32 x (194 x 1) inputs, 32 x (97 x 1) nodes, Linear act_fn\n",
      "\tDropOutLayer do_1: 32 x (97 x 1) inputs, 32 x (97 x 1) nodes, Linear act_fn\n",
      "\tFCLayer fc_1: 3104 inputs, 100 nodes, RectLin act_fn\n",
      "\tDropOutLayer do_2: 100 inputs, 100 nodes, Linear act_fn\n",
      "\tFCLayer fc_2: 100 inputs, 29 nodes, Logistic act_fn\n",
      "\tCostLayer cost: 29 nodes, CrossEntropy cost_fn\n",
      "\n",
      "WARNING:neon.datasets.dataset:Incompatible batch size. Discarding 13 samples...\n",
      "WARNING:neon.datasets.dataset:Incompatible batch size. Discarding 19 samples...\n",
      "WARNING:neon.datasets.dataset:Incompatible batch size. Discarding 13 samples...\n",
      "WARNING:neon.datasets.dataset:Incompatible batch size. Discarding 19 samples...\n",
      "WARNING:neon.util.persist:deserializing object from:  /Users/tombocklisch/data/workout-cnn/workout-cnn.prm\n",
      "INFO:neon.models.mlp:commencing model fitting\n",
      "INFO:neon.models.mlp:epoch: 74, training error: 0.05319\n",
      "WARNING:neon.util.persist:serializing object to: /Users/tombocklisch/data/workout-cnn/workout-cnn.prm\n"
     ]
    },
    {
     "name": "stdout",
     "output_type": "stream",
     "text": [
      "\n",
      "Finished epoch 74"
     ]
    },
    {
     "name": "stderr",
     "output_type": "stream",
     "text": [
      "INFO:neon.models.mlp:Layers:\n",
      "\tDataLayer layer: 3 x (400 x 1) nodes\n",
      "\tConvLayer cv_1: 3 x (400 x 1) inputs, 16 x (396 x 1) nodes, RectLin act_fn\n",
      "\tPoolingLayer po_1: 16 x (396 x 1) inputs, 16 x (198 x 1) nodes, Linear act_fn\n",
      "\tConvLayer cv_2: 16 x (198 x 1) inputs, 32 x (194 x 1) nodes, RectLin act_fn\n",
      "\tPoolingLayer po_2: 32 x (194 x 1) inputs, 32 x (97 x 1) nodes, Linear act_fn\n",
      "\tDropOutLayer do_1: 32 x (97 x 1) inputs, 32 x (97 x 1) nodes, Linear act_fn\n",
      "\tFCLayer fc_1: 3104 inputs, 100 nodes, RectLin act_fn\n",
      "\tDropOutLayer do_2: 100 inputs, 100 nodes, Linear act_fn\n",
      "\tFCLayer fc_2: 100 inputs, 29 nodes, Logistic act_fn\n",
      "\tCostLayer cost: 29 nodes, CrossEntropy cost_fn\n",
      "\n",
      "WARNING:neon.datasets.dataset:Incompatible batch size. Discarding 13 samples...\n",
      "WARNING:neon.datasets.dataset:Incompatible batch size. Discarding 19 samples...\n",
      "WARNING:neon.datasets.dataset:Incompatible batch size. Discarding 13 samples...\n",
      "WARNING:neon.datasets.dataset:Incompatible batch size. Discarding 19 samples...\n",
      "WARNING:neon.util.persist:deserializing object from:  /Users/tombocklisch/data/workout-cnn/workout-cnn.prm\n",
      "INFO:neon.models.mlp:commencing model fitting\n",
      "INFO:neon.models.mlp:epoch: 75, training error: 0.05296\n",
      "WARNING:neon.util.persist:serializing object to: /Users/tombocklisch/data/workout-cnn/workout-cnn.prm\n"
     ]
    },
    {
     "name": "stdout",
     "output_type": "stream",
     "text": [
      "\n",
      "Finished epoch 75\n",
      "Finished training!\n"
     ]
    }
   ],
   "source": [
    "from neon.backends import gen_backend\n",
    "from neon.layers import *\n",
    "from neon.models import MLP\n",
    "from neon.transforms import RectLin, Tanh, Logistic, CrossEntropy\n",
    "from neon.experiments import FitPredictErrorExperiment\n",
    "from neon.params import val_init\n",
    "from neon.util.persist import serialize\n",
    "\n",
    "# General settings\n",
    "max_epochs = 75\n",
    "epoch_step_size = 1\n",
    "batch_size = 30 # max(10, min(100, dataset.num_train_examples/10))\n",
    "random_seed = 42 # Take your lucky number\n",
    "\n",
    "\n",
    "# Storage director of the model and its snapshots\n",
    "file_path = expanduser('~/data/workout-cnn/workout-cnn.prm')\n",
    "#if exists(file_path):\n",
    "#    remove(file_path)\n",
    "\n",
    "# Captured errors for the different epochs\n",
    "train_err = []\n",
    "test_err = []\n",
    "\n",
    "print 'Epochs: %d Batch-Size: %d' % (max_epochs, batch_size)\n",
    "\n",
    "# Generate layers and a MLP model using the given settings\n",
    "def model_gen(lrate, momentum_coef, num_epochs, batch_size):\n",
    "    layers = []\n",
    "\n",
    "    lrule = {\n",
    "        'lr_params': {\n",
    "            'learning_rate': lrate,\n",
    "            'momentum_params': {\n",
    "                'coef': momentum_coef,\n",
    "                'type': 'constant'\n",
    "            }},\n",
    "        'type': 'gradient_descent_momentum'\n",
    "    }\n",
    "\n",
    "    weight_init = val_init.UniformValGen(low=-0.1, high=0.1)\n",
    "\n",
    "    layers.append(DataLayer(\n",
    "        nofm=3,\n",
    "        ofmshape=[400,1],\n",
    "        is_local=True\n",
    "    ))\n",
    "    \n",
    "    layers.append(ConvLayer(\n",
    "        name=\"cv_1\",\n",
    "        nofm=16,\n",
    "        fshape = [5,1],\n",
    "        stride = 1,\n",
    "        lrule_init=lrule,\n",
    "        weight_init= weight_init,\n",
    "        activation=RectLin()\n",
    "    ))\n",
    "\n",
    "    layers.append(PoolingLayer(\n",
    "        name=\"po_1\",\n",
    "        op=\"max\",\n",
    "        fshape=[2,1],\n",
    "        stride=2,\n",
    "    ))\n",
    "\n",
    "    layers.append(ConvLayer(\n",
    "        name=\"cv_2\",\n",
    "        nofm=32,\n",
    "        fshape = [5,1],\n",
    "        stride = 1,\n",
    "        lrule_init=lrule,\n",
    "        weight_init= weight_init,\n",
    "        activation=RectLin()\n",
    "    ))\n",
    "\n",
    "    layers.append(PoolingLayer(\n",
    "        name=\"po_2\",\n",
    "        op=\"max\",\n",
    "        fshape=[2,1],\n",
    "        stride=2,\n",
    "    ))\n",
    "    \n",
    "    layers.append(DropOutLayer(\n",
    "            name=\"do_1\",\n",
    "            keep = 0.9\n",
    "        )\n",
    "    )\n",
    "\n",
    "    layers.append(FCLayer(\n",
    "        name=\"fc_1\",\n",
    "        nout=100,\n",
    "        lrule_init=lrule,\n",
    "        weight_init=weight_init,\n",
    "        activation=RectLin()\n",
    "    ))\n",
    "    \n",
    "    layers.append(DropOutLayer(\n",
    "            name=\"do_2\",\n",
    "            keep = 0.9\n",
    "        )\n",
    "    )\n",
    "\n",
    "    layers.append(FCLayer(\n",
    "        name=\"fc_2\",\n",
    "        nout=dataset.num_labels,\n",
    "        lrule_init=lrule,\n",
    "        weight_init=weight_init,\n",
    "        activation = Logistic()\n",
    "    ))\n",
    "\n",
    "    layers.append(CostLayer(\n",
    "        name='cost',\n",
    "        ref_layer=layers[0],\n",
    "        cost=CrossEntropy()\n",
    "    ))\n",
    "\n",
    "    model = MLP(num_epochs=num_epochs, batch_size=batch_size, layers=layers, serialized_path=file_path)\n",
    "    return model\n",
    "\n",
    "# Set logging output...\n",
    "for name in [\"neon.util.persist\", \"neon.datasets.dataset\", \"neon.models.mlp\"]:\n",
    "    dslogger = logging.getLogger(name)\n",
    "    dslogger.setLevel(20)\n",
    "\n",
    "print \"Starting training...\"\n",
    "for num_epochs in range(26,max_epochs+1, epoch_step_size):\n",
    "\n",
    "    if num_epochs > 230:\n",
    "        lrate = 0.0000003\n",
    "    elif num_epochs > 60:\n",
    "        lrate = 0.00001\n",
    "    elif num_epochs > 40:\n",
    "        lrate = 0.00003\n",
    "    else:\n",
    "        lrate = 0.0001\n",
    "\n",
    "    # set up the model and experiment\n",
    "    model = model_gen(lrate = lrate,\n",
    "                      momentum_coef = 0.9,\n",
    "                      num_epochs = num_epochs,\n",
    "                      batch_size = batch_size)\n",
    "\n",
    "    # Uncomment line below to run on CPU backend\n",
    "    backend = gen_backend(rng_seed=random_seed)\n",
    "    # Uncomment line below to run on GPU using cudanet backend\n",
    "    # backend = gen_backend(rng_seed=0, gpu='cudanet')\n",
    "    experiment = FitPredictErrorExperiment(model=model,\n",
    "                                           backend=backend,\n",
    "                                           dataset=dataset)\n",
    "\n",
    "    # Run the training, and dump weights\n",
    "    dest_path = expanduser('~/data/workout-cnn/workout-ep' + str(num_epochs) + '.prm')\n",
    "    if num_epochs > 0:\n",
    "        res = experiment.run()\n",
    "        train_err.append(res['train']['MisclassPercentage_TOP_1'])\n",
    "        test_err.append(res['test']['MisclassPercentage_TOP_1'])\n",
    "        # Save the weights at this epoch\n",
    "        shutil.copy2(file_path, dest_path)\n",
    "        print \"Finished epoch \" + str(num_epochs)\n",
    "    else:\n",
    "        model.epochs_complete = 0\n",
    "        serialize(model.get_params(), dest_path)\n",
    "\n",
    "print \"Finished training!\"\n"
   ]
  },
  {
   "cell_type": "markdown",
   "metadata": {},
   "source": [
    "To check weather the network is learning something we will plot the weight matrices of the different training epochs."
   ]
  },
  {
   "cell_type": "code",
   "execution_count": 56,
   "metadata": {
    "collapsed": false
   },
   "outputs": [
    {
     "data": {
      "image/png": "[encoded data removed]",
      "text/plain": [
       "<matplotlib.figure.Figure at 0x12747d710>"
      ]
     },
     "metadata": {},
     "output_type": "display_data"
    }
   ],
   "source": [
    "import numpy as np\n",
    "import math\n",
    "from matplotlib import pyplot, cm\n",
    "from pylab import *\n",
    "from IPython.html import widgets\n",
    "from IPython.html.widgets import interact\n",
    "\n",
    "def closestSqrt(i):\n",
    "    N = int(math.sqrt(i))\n",
    "    while True:\n",
    "        M = int(i / N)\n",
    "        if N * M == i:\n",
    "            return N, M\n",
    "        N -= 1\n",
    "        \n",
    "def plot_filters(**kwargs):\n",
    "    n = kwargs['n']\n",
    "    layer_name = kwargs['layer']\n",
    "    dest_path = expanduser('~/data/workout-cnn/workout-ep' + str(n) + '.prm')\n",
    "    params = pkl.load(open(dest_path, 'r'))\n",
    "\n",
    "    wts = params[layer_name]['weights']\n",
    "\n",
    "    nrows, ncols = closestSqrt(wts.shape[0])\n",
    "    fr, fc = closestSqrt(wts.shape[1])\n",
    "    \n",
    "    fi = 0\n",
    "\n",
    "    W = np.zeros((fr*nrows, fc*ncols))\n",
    "    for row, col in [(row, col) for row in range(nrows) for col in range(ncols)]:\n",
    "        W[fr*row:fr*(row+1):,fc*col:fc*(col+1)] = wts[fi].reshape(fr,fc)\n",
    "        fi = fi + 1\n",
    "\n",
    "    matshow(W, cmap=cm.gray)\n",
    "    title('Visualizing weights of '+layer_name+' in epoch ' + str(n) )\n",
    "    show()\n",
    "    \n",
    "layer_names = map(lambda l: l[1].name+\"_\"+str(l[0]), filter(lambda l: l[1].has_params, enumerate(model.layers)))\n",
    "\n",
    "_i = interact(plot_filters,\n",
    "              layer=widgets.widget_selection.ToggleButtons(options = layer_names),\n",
    "              n=widgets.IntSliderWidget(description='epochs',\n",
    "                                        min=0, max=max_epochs, value=0, step=epoch_step_size))\n",
    "\n"
   ]
  },
  {
   "cell_type": "code",
   "execution_count": 58,
   "metadata": {
    "collapsed": false
   },
   "outputs": [
    {
     "name": "stdout",
     "output_type": "stream",
     "text": [
      "Lowest test error: 9.80%\n",
      "Lowest train error: 1.24%\n"
     ]
    },
    {
     "data": {
      "image/png": "[encoded data removed]",
      "text/plain": [
       "<matplotlib.figure.Figure at 0x12412fa90>"
      ]
     },
     "metadata": {},
     "output_type": "display_data"
    }
   ],
   "source": [
    "print \"Lowest test error: %0.2f%%\" % np.min(test_err)\n",
    "print \"Lowest train error: %0.2f%%\" % np.min(train_err)\n",
    "\n",
    "pyplot.plot(range(epoch_step_size*26, max_epochs+1, epoch_step_size), train_err, linewidth=3, label='train')\n",
    "pyplot.plot(range(epoch_step_size*26, max_epochs+1, epoch_step_size), test_err, linewidth=3, label='test')\n",
    "pyplot.grid()\n",
    "pyplot.legend()\n",
    "pyplot.xlabel(\"epoch\")\n",
    "pyplot.ylabel(\"error %\")\n",
    "pyplot.show()"
   ]
  },
  {
   "cell_type": "markdown",
   "metadata": {},
   "source": [
    "Let's also have a look at the confusion matrix for the test dataset."
   ]
  },
  {
   "cell_type": "code",
   "execution_count": 54,
   "metadata": {
    "collapsed": false
   },
   "outputs": [
    {
     "data": {
      "text/html": [
       "<table border=\"1\" cellpadding=\"3\" cellspacing=\"0\"  style=\"border:1px solid black;border-collapse:collapse;\"><tr><td  style=\"background-color:lightGray;text-align:center;\">actual&nbsp\\&nbsppredicted</td><td  style=\"background-color:lightGray;text-align:center;\">dumbbell-chest-press</td><td  style=\"background-color:lightGray;text-align:center;\">dumbbell-chest-fly</td><td  style=\"background-color:lightGray;text-align:center;\">barbell-press</td><td  style=\"background-color:lightGray;text-align:center;\">lat-pulldown-straight</td><td  style=\"background-color:lightGray;text-align:center;\">twist</td><td  style=\"background-color:lightGray;text-align:center;\">angle-chest-press</td><td  style=\"background-color:lightGray;text-align:center;\">lat-pulldown-angled</td><td  style=\"background-color:lightGray;text-align:center;\">cable-cross-overs</td><td  style=\"background-color:lightGray;text-align:center;\">dumbbell-press</td><td  style=\"background-color:lightGray;text-align:center;\">lateral-raise</td><td  style=\"background-color:lightGray;text-align:center;\">side-dips</td><td  style=\"background-color:lightGray;text-align:center;\">deltoid-row</td><td  style=\"background-color:lightGray;text-align:center;\">leverage-high-row</td><td  style=\"background-color:lightGray;text-align:center;\">pulldown-crunch</td><td  style=\"background-color:lightGray;text-align:center;\">dumbbell-row</td><td  style=\"background-color:lightGray;text-align:center;\">dumbbell-front-rise</td><td  style=\"background-color:lightGray;text-align:center;\">triceps-dips</td><td  style=\"background-color:lightGray;text-align:center;\">rope-triceps-extension</td><td  style=\"background-color:lightGray;text-align:center;\">straight-bar-biceps-curl</td><td  style=\"background-color:lightGray;text-align:center;\">cable-deltoid-cross-overs</td><td  style=\"background-color:lightGray;text-align:center;\">rope-biceps-curl</td><td  style=\"background-color:lightGray;text-align:center;\">straight-bar-triceps-extension</td><td  style=\"background-color:lightGray;text-align:center;\">alt-dumbbell-biceps-curl</td><td  style=\"background-color:lightGray;text-align:center;\">barbell-biceps-curl</td><td  style=\"background-color:lightGray;text-align:center;\">dumbbell-side-rise</td><td  style=\"background-color:lightGray;text-align:center;\">overhead-pull</td><td  style=\"background-color:lightGray;text-align:center;\">barbell-pullup</td><td  style=\"background-color:lightGray;text-align:center;\">rowing</td><td  style=\"background-color:lightGray;text-align:center;\">dumbbell-biceps-curl</td></tr><tr><td  style=\"background-color:lightGray;text-align:center;\">dumbbell-chest-press</td><td  style=\"background-color:lightGreen;text-align:center;width:80px;\">294</td><td  style=\"text-align:center;\">0</td><td  style=\"text-align:center;\">0</td><td  style=\"text-align:center;\">0</td><td  style=\"text-align:center;\">0</td><td  style=\"text-align:center;\">0</td><td  style=\"text-align:center;\">0</td><td  style=\"text-align:center;\">0</td><td  style=\"text-align:center;\">0</td><td  style=\"text-align:center;\">0</td><td  style=\"text-align:center;\">0</td><td  style=\"text-align:center;\">0</td><td  style=\"text-align:center;\">0</td><td  style=\"text-align:center;\">0</td><td  style=\"text-align:center;\">0</td><td  style=\"text-align:center;\">0</td><td  style=\"text-align:center;\">0</td><td  style=\"text-align:center;\">0</td><td  style=\"text-align:center;\">0</td><td  style=\"text-align:center;\">0</td><td  style=\"text-align:center;\">0</td><td  style=\"text-align:center;\">0</td><td  style=\"text-align:center;\">0</td><td  style=\"text-align:center;\">0</td><td  style=\"text-align:center;\">0</td><td  style=\"text-align:center;\">0</td><td  style=\"text-align:center;\">0</td><td  style=\"text-align:center;\">0</td><td  style=\"text-align:center;\">0</td></tr><tr><td  style=\"background-color:lightGray;text-align:center;\">dumbbell-chest-fly</td><td  style=\"text-align:center;\">0</td><td  style=\"background-color:lightGreen;text-align:center;width:80px;\">484</td><td  style=\"text-align:center;\">0</td><td  style=\"text-align:center;\">0</td><td  style=\"text-align:center;\">0</td><td  style=\"text-align:center;\">0</td><td  style=\"text-align:center;\">0</td><td  style=\"text-align:center;\">0</td><td  style=\"text-align:center;\">0</td><td  style=\"text-align:center;\">0</td><td  style=\"text-align:center;\">0</td><td  style=\"text-align:center;\">0</td><td  style=\"text-align:center;\">0</td><td  style=\"text-align:center;\">0</td><td  style=\"text-align:center;\">0</td><td  style=\"text-align:center;\">0</td><td  style=\"text-align:center;\">0</td><td  style=\"text-align:center;\">0</td><td  style=\"text-align:center;\">0</td><td  style=\"text-align:center;\">0</td><td  style=\"text-align:center;\">0</td><td  style=\"text-align:center;\">0</td><td  style=\"text-align:center;\">0</td><td  style=\"text-align:center;\">0</td><td  style=\"text-align:center;\">0</td><td  style=\"text-align:center;\">0</td><td  style=\"text-align:center;\">0</td><td  style=\"text-align:center;\">0</td><td  style=\"text-align:center;\">0</td></tr><tr><td  style=\"background-color:lightGray;text-align:center;\">barbell-press</td><td  style=\"text-align:center;\">0</td><td  style=\"text-align:center;\">0</td><td  style=\"background-color:lightGreen;text-align:center;width:80px;\">249</td><td  style=\"text-align:center;\">0</td><td  style=\"text-align:center;\">0</td><td  style=\"text-align:center;\">0</td><td  style=\"text-align:center;\">0</td><td  style=\"text-align:center;\">0</td><td  style=\"text-align:center;\">0</td><td  style=\"background-color:lightYellow;text-align:center;\">2</td><td  style=\"text-align:center;\">0</td><td  style=\"text-align:center;\">0</td><td  style=\"text-align:center;\">0</td><td  style=\"text-align:center;\">0</td><td  style=\"text-align:center;\">0</td><td  style=\"text-align:center;\">0</td><td  style=\"text-align:center;\">0</td><td  style=\"text-align:center;\">0</td><td  style=\"text-align:center;\">0</td><td  style=\"text-align:center;\">0</td><td  style=\"text-align:center;\">0</td><td  style=\"text-align:center;\">0</td><td  style=\"text-align:center;\">0</td><td  style=\"text-align:center;\">0</td><td  style=\"text-align:center;\">0</td><td  style=\"text-align:center;\">0</td><td  style=\"text-align:center;\">0</td><td  style=\"text-align:center;\">0</td><td  style=\"text-align:center;\">0</td></tr><tr><td  style=\"background-color:lightGray;text-align:center;\">lat-pulldown-straight</td><td  style=\"text-align:center;\">0</td><td  style=\"text-align:center;\">0</td><td  style=\"text-align:center;\">0</td><td  style=\"background-color:lightGreen;text-align:center;width:80px;\">153</td><td  style=\"text-align:center;\">0</td><td  style=\"text-align:center;\">0</td><td  style=\"text-align:center;\">0</td><td  style=\"text-align:center;\">0</td><td  style=\"text-align:center;\">0</td><td  style=\"text-align:center;\">0</td><td  style=\"text-align:center;\">0</td><td  style=\"text-align:center;\">0</td><td  style=\"background-color:lightYellow;text-align:center;\">19</td><td  style=\"text-align:center;\">0</td><td  style=\"text-align:center;\">0</td><td  style=\"text-align:center;\">0</td><td  style=\"text-align:center;\">0</td><td  style=\"text-align:center;\">0</td><td  style=\"text-align:center;\">0</td><td  style=\"text-align:center;\">0</td><td  style=\"text-align:center;\">0</td><td  style=\"text-align:center;\">0</td><td  style=\"text-align:center;\">0</td><td  style=\"text-align:center;\">0</td><td  style=\"text-align:center;\">0</td><td  style=\"text-align:center;\">0</td><td  style=\"text-align:center;\">0</td><td  style=\"text-align:center;\">0</td><td  style=\"text-align:center;\">0</td></tr><tr><td  style=\"background-color:lightGray;text-align:center;\">twist</td><td  style=\"text-align:center;\">0</td><td  style=\"text-align:center;\">0</td><td  style=\"text-align:center;\">0</td><td  style=\"text-align:center;\">0</td><td  style=\"background-color:lightGreen;text-align:center;width:80px;\">467</td><td  style=\"text-align:center;\">0</td><td  style=\"text-align:center;\">0</td><td  style=\"text-align:center;\">0</td><td  style=\"text-align:center;\">0</td><td  style=\"text-align:center;\">0</td><td  style=\"text-align:center;\">0</td><td  style=\"text-align:center;\">0</td><td  style=\"text-align:center;\">0</td><td  style=\"text-align:center;\">0</td><td  style=\"text-align:center;\">0</td><td  style=\"text-align:center;\">0</td><td  style=\"text-align:center;\">0</td><td  style=\"text-align:center;\">0</td><td  style=\"background-color:lightYellow;text-align:center;\">9</td><td  style=\"text-align:center;\">0</td><td  style=\"text-align:center;\">0</td><td  style=\"text-align:center;\">0</td><td  style=\"text-align:center;\">0</td><td  style=\"text-align:center;\">0</td><td  style=\"background-color:lightYellow;text-align:center;\">1</td><td  style=\"text-align:center;\">0</td><td  style=\"text-align:center;\">0</td><td  style=\"text-align:center;\">0</td><td  style=\"text-align:center;\">0</td></tr><tr><td  style=\"background-color:lightGray;text-align:center;\">angle-chest-press</td><td  style=\"text-align:center;\">0</td><td  style=\"text-align:center;\">0</td><td  style=\"text-align:center;\">0</td><td  style=\"text-align:center;\">0</td><td  style=\"text-align:center;\">0</td><td  style=\"background-color:lightGreen;text-align:center;width:80px;\">451</td><td  style=\"text-align:center;\">0</td><td  style=\"text-align:center;\">0</td><td  style=\"text-align:center;\">0</td><td  style=\"text-align:center;\">0</td><td  style=\"text-align:center;\">0</td><td  style=\"text-align:center;\">0</td><td  style=\"text-align:center;\">0</td><td  style=\"text-align:center;\">0</td><td  style=\"text-align:center;\">0</td><td  style=\"text-align:center;\">0</td><td  style=\"text-align:center;\">0</td><td  style=\"text-align:center;\">0</td><td  style=\"text-align:center;\">0</td><td  style=\"text-align:center;\">0</td><td  style=\"text-align:center;\">0</td><td  style=\"text-align:center;\">0</td><td  style=\"text-align:center;\">0</td><td  style=\"text-align:center;\">0</td><td  style=\"text-align:center;\">0</td><td  style=\"text-align:center;\">0</td><td  style=\"text-align:center;\">0</td><td  style=\"text-align:center;\">0</td><td  style=\"text-align:center;\">0</td></tr><tr><td  style=\"background-color:lightGray;text-align:center;\">lat-pulldown-angled</td><td  style=\"text-align:center;\">0</td><td  style=\"text-align:center;\">0</td><td  style=\"text-align:center;\">0</td><td  style=\"text-align:center;\">0</td><td  style=\"text-align:center;\">0</td><td  style=\"text-align:center;\">0</td><td  style=\"background-color:lightGreen;text-align:center;width:80px;\">200</td><td  style=\"text-align:center;\">0</td><td  style=\"text-align:center;\">0</td><td  style=\"text-align:center;\">0</td><td  style=\"text-align:center;\">0</td><td  style=\"text-align:center;\">0</td><td  style=\"text-align:center;\">0</td><td  style=\"text-align:center;\">0</td><td  style=\"text-align:center;\">0</td><td  style=\"text-align:center;\">0</td><td  style=\"text-align:center;\">0</td><td  style=\"text-align:center;\">0</td><td  style=\"text-align:center;\">0</td><td  style=\"text-align:center;\">0</td><td  style=\"text-align:center;\">0</td><td  style=\"text-align:center;\">0</td><td  style=\"text-align:center;\">0</td><td  style=\"text-align:center;\">0</td><td  style=\"text-align:center;\">0</td><td  style=\"text-align:center;\">0</td><td  style=\"text-align:center;\">0</td><td  style=\"text-align:center;\">0</td><td  style=\"text-align:center;\">0</td></tr><tr><td  style=\"background-color:lightGray;text-align:center;\">cable-cross-overs</td><td  style=\"text-align:center;\">0</td><td  style=\"text-align:center;\">0</td><td  style=\"text-align:center;\">0</td><td  style=\"text-align:center;\">0</td><td  style=\"text-align:center;\">0</td><td  style=\"text-align:center;\">0</td><td  style=\"text-align:center;\">0</td><td  style=\"background-color:lightGreen;text-align:center;width:80px;\">208</td><td  style=\"text-align:center;\">0</td><td  style=\"text-align:center;\">0</td><td  style=\"text-align:center;\">0</td><td  style=\"text-align:center;\">0</td><td  style=\"text-align:center;\">0</td><td  style=\"text-align:center;\">0</td><td  style=\"text-align:center;\">0</td><td  style=\"text-align:center;\">0</td><td  style=\"text-align:center;\">0</td><td  style=\"text-align:center;\">0</td><td  style=\"text-align:center;\">0</td><td  style=\"text-align:center;\">0</td><td  style=\"text-align:center;\">0</td><td  style=\"text-align:center;\">0</td><td  style=\"text-align:center;\">0</td><td  style=\"text-align:center;\">0</td><td  style=\"text-align:center;\">0</td><td  style=\"text-align:center;\">0</td><td  style=\"text-align:center;\">0</td><td  style=\"text-align:center;\">0</td><td  style=\"text-align:center;\">0</td></tr><tr><td  style=\"background-color:lightGray;text-align:center;\">dumbbell-press</td><td  style=\"background-color:Pink;text-align:center;\">137</td><td  style=\"text-align:center;\">0</td><td  style=\"background-color:Pink;text-align:center;\">23</td><td  style=\"text-align:center;\">0</td><td  style=\"text-align:center;\">0</td><td  style=\"text-align:center;\">0</td><td  style=\"text-align:center;\">0</td><td  style=\"text-align:center;\">0</td><td  style=\"background-color:lightGreen;text-align:center;width:80px;\">152</td><td  style=\"text-align:center;\">0</td><td  style=\"text-align:center;\">0</td><td  style=\"text-align:center;\">0</td><td  style=\"text-align:center;\">0</td><td  style=\"text-align:center;\">0</td><td  style=\"background-color:lightYellow;text-align:center;\">2</td><td  style=\"background-color:Pink;text-align:center;\">39</td><td  style=\"text-align:center;\">0</td><td  style=\"text-align:center;\">0</td><td  style=\"text-align:center;\">0</td><td  style=\"text-align:center;\">0</td><td  style=\"text-align:center;\">0</td><td  style=\"text-align:center;\">0</td><td  style=\"text-align:center;\">0</td><td  style=\"text-align:center;\">0</td><td  style=\"background-color:Pink;text-align:center;\">56</td><td  style=\"background-color:lightYellow;text-align:center;\">2</td><td  style=\"text-align:center;\">0</td><td  style=\"text-align:center;\">0</td><td  style=\"text-align:center;\">0</td></tr><tr><td  style=\"background-color:lightGray;text-align:center;\">lateral-raise</td><td  style=\"text-align:center;\">0</td><td  style=\"text-align:center;\">0</td><td  style=\"text-align:center;\">0</td><td  style=\"text-align:center;\">0</td><td  style=\"text-align:center;\">0</td><td  style=\"text-align:center;\">0</td><td  style=\"text-align:center;\">0</td><td  style=\"text-align:center;\">0</td><td  style=\"text-align:center;\">0</td><td  style=\"background-color:lightGreen;text-align:center;width:80px;\">57</td><td  style=\"text-align:center;\">0</td><td  style=\"text-align:center;\">0</td><td  style=\"text-align:center;\">0</td><td  style=\"text-align:center;\">0</td><td  style=\"text-align:center;\">0</td><td  style=\"text-align:center;\">0</td><td  style=\"text-align:center;\">0</td><td  style=\"text-align:center;\">0</td><td  style=\"text-align:center;\">0</td><td  style=\"text-align:center;\">0</td><td  style=\"text-align:center;\">0</td><td  style=\"text-align:center;\">0</td><td  style=\"text-align:center;\">0</td><td  style=\"text-align:center;\">0</td><td  style=\"text-align:center;\">0</td><td  style=\"text-align:center;\">0</td><td  style=\"text-align:center;\">0</td><td  style=\"text-align:center;\">0</td><td  style=\"text-align:center;\">0</td></tr><tr><td  style=\"background-color:lightGray;text-align:center;\">side-dips</td><td  style=\"text-align:center;\">0</td><td  style=\"text-align:center;\">0</td><td  style=\"text-align:center;\">0</td><td  style=\"text-align:center;\">0</td><td  style=\"text-align:center;\">0</td><td  style=\"text-align:center;\">0</td><td  style=\"text-align:center;\">0</td><td  style=\"text-align:center;\">0</td><td  style=\"text-align:center;\">0</td><td  style=\"text-align:center;\">0</td><td  style=\"background-color:lightGreen;text-align:center;width:80px;\">117</td><td  style=\"text-align:center;\">0</td><td  style=\"text-align:center;\">0</td><td  style=\"text-align:center;\">0</td><td  style=\"text-align:center;\">0</td><td  style=\"text-align:center;\">0</td><td  style=\"text-align:center;\">0</td><td  style=\"text-align:center;\">0</td><td  style=\"text-align:center;\">0</td><td  style=\"text-align:center;\">0</td><td  style=\"text-align:center;\">0</td><td  style=\"text-align:center;\">0</td><td  style=\"text-align:center;\">0</td><td  style=\"text-align:center;\">0</td><td  style=\"text-align:center;\">0</td><td  style=\"text-align:center;\">0</td><td  style=\"text-align:center;\">0</td><td  style=\"text-align:center;\">0</td><td  style=\"text-align:center;\">0</td></tr><tr><td  style=\"background-color:lightGray;text-align:center;\">deltoid-row</td><td  style=\"text-align:center;\">0</td><td  style=\"text-align:center;\">0</td><td  style=\"text-align:center;\">0</td><td  style=\"text-align:center;\">0</td><td  style=\"text-align:center;\">0</td><td  style=\"text-align:center;\">0</td><td  style=\"text-align:center;\">0</td><td  style=\"text-align:center;\">0</td><td  style=\"text-align:center;\">0</td><td  style=\"text-align:center;\">0</td><td  style=\"text-align:center;\">0</td><td  style=\"background-color:lightGreen;text-align:center;width:80px;\">0</td><td  style=\"text-align:center;\">0</td><td  style=\"text-align:center;\">0</td><td  style=\"text-align:center;\">0</td><td  style=\"text-align:center;\">0</td><td  style=\"text-align:center;\">0</td><td  style=\"text-align:center;\">0</td><td  style=\"text-align:center;\">0</td><td  style=\"text-align:center;\">0</td><td  style=\"text-align:center;\">0</td><td  style=\"text-align:center;\">0</td><td  style=\"text-align:center;\">0</td><td  style=\"text-align:center;\">0</td><td  style=\"text-align:center;\">0</td><td  style=\"text-align:center;\">0</td><td  style=\"text-align:center;\">0</td><td  style=\"text-align:center;\">0</td><td  style=\"text-align:center;\">0</td></tr><tr><td  style=\"background-color:lightGray;text-align:center;\">leverage-high-row</td><td  style=\"text-align:center;\">0</td><td  style=\"text-align:center;\">0</td><td  style=\"text-align:center;\">0</td><td  style=\"text-align:center;\">0</td><td  style=\"text-align:center;\">0</td><td  style=\"text-align:center;\">0</td><td  style=\"text-align:center;\">0</td><td  style=\"text-align:center;\">0</td><td  style=\"text-align:center;\">0</td><td  style=\"text-align:center;\">0</td><td  style=\"text-align:center;\">0</td><td  style=\"text-align:center;\">0</td><td  style=\"background-color:lightGreen;text-align:center;width:80px;\">0</td><td  style=\"text-align:center;\">0</td><td  style=\"text-align:center;\">0</td><td  style=\"text-align:center;\">0</td><td  style=\"text-align:center;\">0</td><td  style=\"text-align:center;\">0</td><td  style=\"text-align:center;\">0</td><td  style=\"text-align:center;\">0</td><td  style=\"text-align:center;\">0</td><td  style=\"text-align:center;\">0</td><td  style=\"text-align:center;\">0</td><td  style=\"text-align:center;\">0</td><td  style=\"text-align:center;\">0</td><td  style=\"text-align:center;\">0</td><td  style=\"text-align:center;\">0</td><td  style=\"text-align:center;\">0</td><td  style=\"text-align:center;\">0</td></tr><tr><td  style=\"background-color:lightGray;text-align:center;\">pulldown-crunch</td><td  style=\"text-align:center;\">0</td><td  style=\"text-align:center;\">0</td><td  style=\"text-align:center;\">0</td><td  style=\"text-align:center;\">0</td><td  style=\"text-align:center;\">0</td><td  style=\"text-align:center;\">0</td><td  style=\"text-align:center;\">0</td><td  style=\"text-align:center;\">0</td><td  style=\"text-align:center;\">0</td><td  style=\"text-align:center;\">0</td><td  style=\"text-align:center;\">0</td><td  style=\"text-align:center;\">0</td><td  style=\"text-align:center;\">0</td><td  style=\"background-color:lightGreen;text-align:center;width:80px;\">679</td><td  style=\"text-align:center;\">0</td><td  style=\"text-align:center;\">0</td><td  style=\"text-align:center;\">0</td><td  style=\"text-align:center;\">0</td><td  style=\"text-align:center;\">0</td><td  style=\"text-align:center;\">0</td><td  style=\"text-align:center;\">0</td><td  style=\"text-align:center;\">0</td><td  style=\"text-align:center;\">0</td><td  style=\"text-align:center;\">0</td><td  style=\"text-align:center;\">0</td><td  style=\"text-align:center;\">0</td><td  style=\"text-align:center;\">0</td><td  style=\"text-align:center;\">0</td><td  style=\"text-align:center;\">0</td></tr><tr><td  style=\"background-color:lightGray;text-align:center;\">dumbbell-row</td><td  style=\"text-align:center;\">0</td><td  style=\"text-align:center;\">0</td><td  style=\"text-align:center;\">0</td><td  style=\"text-align:center;\">0</td><td  style=\"text-align:center;\">0</td><td  style=\"text-align:center;\">0</td><td  style=\"text-align:center;\">0</td><td  style=\"text-align:center;\">0</td><td  style=\"text-align:center;\">0</td><td  style=\"text-align:center;\">0</td><td  style=\"text-align:center;\">0</td><td  style=\"text-align:center;\">0</td><td  style=\"text-align:center;\">0</td><td  style=\"text-align:center;\">0</td><td  style=\"background-color:lightGreen;text-align:center;width:80px;\">1</td><td  style=\"text-align:center;\">0</td><td  style=\"text-align:center;\">0</td><td  style=\"text-align:center;\">0</td><td  style=\"text-align:center;\">0</td><td  style=\"text-align:center;\">0</td><td  style=\"text-align:center;\">0</td><td  style=\"text-align:center;\">0</td><td  style=\"text-align:center;\">0</td><td  style=\"text-align:center;\">0</td><td  style=\"text-align:center;\">0</td><td  style=\"text-align:center;\">0</td><td  style=\"text-align:center;\">0</td><td  style=\"text-align:center;\">0</td><td  style=\"text-align:center;\">0</td></tr><tr><td  style=\"background-color:lightGray;text-align:center;\">dumbbell-front-rise</td><td  style=\"text-align:center;\">0</td><td  style=\"text-align:center;\">0</td><td  style=\"text-align:center;\">0</td><td  style=\"text-align:center;\">0</td><td  style=\"background-color:lightYellow;text-align:center;\">5</td><td  style=\"background-color:lightYellow;text-align:center;\">1</td><td  style=\"text-align:center;\">0</td><td  style=\"text-align:center;\">0</td><td  style=\"text-align:center;\">0</td><td  style=\"text-align:center;\">0</td><td  style=\"text-align:center;\">0</td><td  style=\"text-align:center;\">0</td><td  style=\"text-align:center;\">0</td><td  style=\"text-align:center;\">0</td><td  style=\"text-align:center;\">0</td><td  style=\"background-color:lightGreen;text-align:center;width:80px;\">70</td><td  style=\"background-color:lightYellow;text-align:center;\">15</td><td  style=\"text-align:center;\">0</td><td  style=\"text-align:center;\">0</td><td  style=\"text-align:center;\">0</td><td  style=\"text-align:center;\">0</td><td  style=\"text-align:center;\">0</td><td  style=\"text-align:center;\">0</td><td  style=\"text-align:center;\">0</td><td  style=\"background-color:lightYellow;text-align:center;\">3</td><td  style=\"text-align:center;\">0</td><td  style=\"text-align:center;\">0</td><td  style=\"text-align:center;\">0</td><td  style=\"text-align:center;\">0</td></tr><tr><td  style=\"background-color:lightGray;text-align:center;\">triceps-dips</td><td  style=\"text-align:center;\">0</td><td  style=\"text-align:center;\">0</td><td  style=\"text-align:center;\">0</td><td  style=\"text-align:center;\">0</td><td  style=\"text-align:center;\">0</td><td  style=\"text-align:center;\">0</td><td  style=\"text-align:center;\">0</td><td  style=\"text-align:center;\">0</td><td  style=\"text-align:center;\">0</td><td  style=\"text-align:center;\">0</td><td  style=\"text-align:center;\">0</td><td  style=\"text-align:center;\">0</td><td  style=\"text-align:center;\">0</td><td  style=\"text-align:center;\">0</td><td  style=\"text-align:center;\">0</td><td  style=\"text-align:center;\">0</td><td  style=\"background-color:lightGreen;text-align:center;width:80px;\">233</td><td  style=\"text-align:center;\">0</td><td  style=\"text-align:center;\">0</td><td  style=\"text-align:center;\">0</td><td  style=\"text-align:center;\">0</td><td  style=\"text-align:center;\">0</td><td  style=\"text-align:center;\">0</td><td  style=\"text-align:center;\">0</td><td  style=\"text-align:center;\">0</td><td  style=\"text-align:center;\">0</td><td  style=\"text-align:center;\">0</td><td  style=\"text-align:center;\">0</td><td  style=\"text-align:center;\">0</td></tr><tr><td  style=\"background-color:lightGray;text-align:center;\">rope-triceps-extension</td><td  style=\"text-align:center;\">0</td><td  style=\"text-align:center;\">0</td><td  style=\"text-align:center;\">0</td><td  style=\"text-align:center;\">0</td><td  style=\"text-align:center;\">0</td><td  style=\"text-align:center;\">0</td><td  style=\"text-align:center;\">0</td><td  style=\"text-align:center;\">0</td><td  style=\"text-align:center;\">0</td><td  style=\"text-align:center;\">0</td><td  style=\"text-align:center;\">0</td><td  style=\"text-align:center;\">0</td><td  style=\"text-align:center;\">0</td><td  style=\"text-align:center;\">0</td><td  style=\"text-align:center;\">0</td><td  style=\"text-align:center;\">0</td><td  style=\"text-align:center;\">0</td><td  style=\"background-color:lightGreen;text-align:center;width:80px;\">148</td><td  style=\"text-align:center;\">0</td><td  style=\"text-align:center;\">0</td><td  style=\"text-align:center;\">0</td><td  style=\"text-align:center;\">0</td><td  style=\"text-align:center;\">0</td><td  style=\"text-align:center;\">0</td><td  style=\"text-align:center;\">0</td><td  style=\"text-align:center;\">0</td><td  style=\"text-align:center;\">0</td><td  style=\"text-align:center;\">0</td><td  style=\"text-align:center;\">0</td></tr><tr><td  style=\"background-color:lightGray;text-align:center;\">straight-bar-biceps-curl</td><td  style=\"text-align:center;\">0</td><td  style=\"background-color:lightYellow;text-align:center;\">1</td><td  style=\"text-align:center;\">0</td><td  style=\"text-align:center;\">0</td><td  style=\"text-align:center;\">0</td><td  style=\"text-align:center;\">0</td><td  style=\"text-align:center;\">0</td><td  style=\"text-align:center;\">0</td><td  style=\"text-align:center;\">0</td><td  style=\"text-align:center;\">0</td><td  style=\"text-align:center;\">0</td><td  style=\"text-align:center;\">0</td><td  style=\"text-align:center;\">0</td><td  style=\"text-align:center;\">0</td><td  style=\"text-align:center;\">0</td><td  style=\"text-align:center;\">0</td><td  style=\"text-align:center;\">0</td><td  style=\"text-align:center;\">0</td><td  style=\"background-color:lightGreen;text-align:center;width:80px;\">371</td><td  style=\"text-align:center;\">0</td><td  style=\"text-align:center;\">0</td><td  style=\"text-align:center;\">0</td><td  style=\"text-align:center;\">0</td><td  style=\"text-align:center;\">0</td><td  style=\"text-align:center;\">0</td><td  style=\"text-align:center;\">0</td><td  style=\"text-align:center;\">0</td><td  style=\"text-align:center;\">0</td><td  style=\"text-align:center;\">0</td></tr><tr><td  style=\"background-color:lightGray;text-align:center;\">cable-deltoid-cross-overs</td><td  style=\"text-align:center;\">0</td><td  style=\"text-align:center;\">0</td><td  style=\"text-align:center;\">0</td><td  style=\"text-align:center;\">0</td><td  style=\"text-align:center;\">0</td><td  style=\"text-align:center;\">0</td><td  style=\"text-align:center;\">0</td><td  style=\"text-align:center;\">0</td><td  style=\"text-align:center;\">0</td><td  style=\"background-color:lightYellow;text-align:center;\">3</td><td  style=\"text-align:center;\">0</td><td  style=\"text-align:center;\">0</td><td  style=\"text-align:center;\">0</td><td  style=\"text-align:center;\">0</td><td  style=\"background-color:Pink;text-align:center;\">91</td><td  style=\"text-align:center;\">0</td><td  style=\"text-align:center;\">0</td><td  style=\"text-align:center;\">0</td><td  style=\"text-align:center;\">0</td><td  style=\"background-color:lightGreen;text-align:center;width:80px;\">218</td><td  style=\"text-align:center;\">0</td><td  style=\"text-align:center;\">0</td><td  style=\"text-align:center;\">0</td><td  style=\"text-align:center;\">0</td><td  style=\"text-align:center;\">0</td><td  style=\"text-align:center;\">0</td><td  style=\"text-align:center;\">0</td><td  style=\"text-align:center;\">0</td><td  style=\"text-align:center;\">0</td></tr><tr><td  style=\"background-color:lightGray;text-align:center;\">rope-biceps-curl</td><td  style=\"text-align:center;\">0</td><td  style=\"text-align:center;\">0</td><td  style=\"text-align:center;\">0</td><td  style=\"text-align:center;\">0</td><td  style=\"text-align:center;\">0</td><td  style=\"text-align:center;\">0</td><td  style=\"text-align:center;\">0</td><td  style=\"text-align:center;\">0</td><td  style=\"text-align:center;\">0</td><td  style=\"text-align:center;\">0</td><td  style=\"text-align:center;\">0</td><td  style=\"text-align:center;\">0</td><td  style=\"text-align:center;\">0</td><td  style=\"text-align:center;\">0</td><td  style=\"text-align:center;\">0</td><td  style=\"text-align:center;\">0</td><td  style=\"text-align:center;\">0</td><td  style=\"text-align:center;\">0</td><td  style=\"text-align:center;\">0</td><td  style=\"text-align:center;\">0</td><td  style=\"background-color:lightGreen;text-align:center;width:80px;\">1</td><td  style=\"text-align:center;\">0</td><td  style=\"text-align:center;\">0</td><td  style=\"text-align:center;\">0</td><td  style=\"text-align:center;\">0</td><td  style=\"text-align:center;\">0</td><td  style=\"text-align:center;\">0</td><td  style=\"text-align:center;\">0</td><td  style=\"text-align:center;\">0</td></tr><tr><td  style=\"background-color:lightGray;text-align:center;\">straight-bar-triceps-extension</td><td  style=\"text-align:center;\">0</td><td  style=\"text-align:center;\">0</td><td  style=\"text-align:center;\">0</td><td  style=\"text-align:center;\">0</td><td  style=\"text-align:center;\">0</td><td  style=\"text-align:center;\">0</td><td  style=\"text-align:center;\">0</td><td  style=\"text-align:center;\">0</td><td  style=\"text-align:center;\">0</td><td  style=\"text-align:center;\">0</td><td  style=\"text-align:center;\">0</td><td  style=\"text-align:center;\">0</td><td  style=\"text-align:center;\">0</td><td  style=\"text-align:center;\">0</td><td  style=\"text-align:center;\">0</td><td  style=\"text-align:center;\">0</td><td  style=\"text-align:center;\">0</td><td  style=\"text-align:center;\">0</td><td  style=\"text-align:center;\">0</td><td  style=\"text-align:center;\">0</td><td  style=\"text-align:center;\">0</td><td  style=\"background-color:lightGreen;text-align:center;width:80px;\">1</td><td  style=\"text-align:center;\">0</td><td  style=\"text-align:center;\">0</td><td  style=\"text-align:center;\">0</td><td  style=\"text-align:center;\">0</td><td  style=\"text-align:center;\">0</td><td  style=\"text-align:center;\">0</td><td  style=\"text-align:center;\">0</td></tr><tr><td  style=\"background-color:lightGray;text-align:center;\">alt-dumbbell-biceps-curl</td><td  style=\"text-align:center;\">0</td><td  style=\"text-align:center;\">0</td><td  style=\"text-align:center;\">0</td><td  style=\"text-align:center;\">0</td><td  style=\"text-align:center;\">0</td><td  style=\"text-align:center;\">0</td><td  style=\"text-align:center;\">0</td><td  style=\"text-align:center;\">0</td><td  style=\"text-align:center;\">0</td><td  style=\"text-align:center;\">0</td><td  style=\"text-align:center;\">0</td><td  style=\"text-align:center;\">0</td><td  style=\"text-align:center;\">0</td><td  style=\"text-align:center;\">0</td><td  style=\"text-align:center;\">0</td><td  style=\"text-align:center;\">0</td><td  style=\"text-align:center;\">0</td><td  style=\"text-align:center;\">0</td><td  style=\"text-align:center;\">0</td><td  style=\"text-align:center;\">0</td><td  style=\"text-align:center;\">0</td><td  style=\"text-align:center;\">0</td><td  style=\"background-color:lightGreen;text-align:center;width:80px;\">261</td><td  style=\"background-color:lightYellow;text-align:center;\">3</td><td  style=\"text-align:center;\">0</td><td  style=\"text-align:center;\">0</td><td  style=\"text-align:center;\">0</td><td  style=\"text-align:center;\">0</td><td  style=\"text-align:center;\">0</td></tr><tr><td  style=\"background-color:lightGray;text-align:center;\">barbell-biceps-curl</td><td  style=\"text-align:center;\">0</td><td  style=\"text-align:center;\">0</td><td  style=\"text-align:center;\">0</td><td  style=\"text-align:center;\">0</td><td  style=\"text-align:center;\">0</td><td  style=\"text-align:center;\">0</td><td  style=\"text-align:center;\">0</td><td  style=\"text-align:center;\">0</td><td  style=\"text-align:center;\">0</td><td  style=\"text-align:center;\">0</td><td  style=\"text-align:center;\">0</td><td  style=\"text-align:center;\">0</td><td  style=\"text-align:center;\">0</td><td  style=\"text-align:center;\">0</td><td  style=\"text-align:center;\">0</td><td  style=\"text-align:center;\">0</td><td  style=\"text-align:center;\">0</td><td  style=\"text-align:center;\">0</td><td  style=\"text-align:center;\">0</td><td  style=\"text-align:center;\">0</td><td  style=\"text-align:center;\">0</td><td  style=\"text-align:center;\">0</td><td  style=\"text-align:center;\">0</td><td  style=\"background-color:lightGreen;text-align:center;width:80px;\">55</td><td  style=\"text-align:center;\">0</td><td  style=\"text-align:center;\">0</td><td  style=\"text-align:center;\">0</td><td  style=\"text-align:center;\">0</td><td  style=\"text-align:center;\">0</td></tr><tr><td  style=\"background-color:lightGray;text-align:center;\">dumbbell-side-rise</td><td  style=\"text-align:center;\">0</td><td  style=\"text-align:center;\">0</td><td  style=\"text-align:center;\">0</td><td  style=\"text-align:center;\">0</td><td  style=\"text-align:center;\">0</td><td  style=\"text-align:center;\">0</td><td  style=\"text-align:center;\">0</td><td  style=\"text-align:center;\">0</td><td  style=\"text-align:center;\">0</td><td  style=\"text-align:center;\">0</td><td  style=\"text-align:center;\">0</td><td  style=\"text-align:center;\">0</td><td  style=\"text-align:center;\">0</td><td  style=\"text-align:center;\">0</td><td  style=\"text-align:center;\">0</td><td  style=\"text-align:center;\">0</td><td  style=\"text-align:center;\">0</td><td  style=\"text-align:center;\">0</td><td  style=\"text-align:center;\">0</td><td  style=\"text-align:center;\">0</td><td  style=\"text-align:center;\">0</td><td  style=\"text-align:center;\">0</td><td  style=\"text-align:center;\">0</td><td  style=\"text-align:center;\">0</td><td  style=\"background-color:lightGreen;text-align:center;width:80px;\">0</td><td  style=\"text-align:center;\">0</td><td  style=\"text-align:center;\">0</td><td  style=\"text-align:center;\">0</td><td  style=\"text-align:center;\">0</td></tr><tr><td  style=\"background-color:lightGray;text-align:center;\">overhead-pull</td><td  style=\"text-align:center;\">0</td><td  style=\"text-align:center;\">0</td><td  style=\"text-align:center;\">0</td><td  style=\"text-align:center;\">0</td><td  style=\"text-align:center;\">0</td><td  style=\"text-align:center;\">0</td><td  style=\"text-align:center;\">0</td><td  style=\"text-align:center;\">0</td><td  style=\"text-align:center;\">0</td><td  style=\"text-align:center;\">0</td><td  style=\"text-align:center;\">0</td><td  style=\"text-align:center;\">0</td><td  style=\"text-align:center;\">0</td><td  style=\"text-align:center;\">0</td><td  style=\"text-align:center;\">0</td><td  style=\"text-align:center;\">0</td><td  style=\"text-align:center;\">0</td><td  style=\"text-align:center;\">0</td><td  style=\"text-align:center;\">0</td><td  style=\"text-align:center;\">0</td><td  style=\"text-align:center;\">0</td><td  style=\"text-align:center;\">0</td><td  style=\"text-align:center;\">0</td><td  style=\"text-align:center;\">0</td><td  style=\"text-align:center;\">0</td><td  style=\"background-color:lightGreen;text-align:center;width:80px;\">0</td><td  style=\"text-align:center;\">0</td><td  style=\"text-align:center;\">0</td><td  style=\"text-align:center;\">0</td></tr><tr><td  style=\"background-color:lightGray;text-align:center;\">barbell-pullup</td><td  style=\"text-align:center;\">0</td><td  style=\"text-align:center;\">0</td><td  style=\"text-align:center;\">0</td><td  style=\"text-align:center;\">0</td><td  style=\"text-align:center;\">0</td><td  style=\"text-align:center;\">0</td><td  style=\"text-align:center;\">0</td><td  style=\"background-color:lightYellow;text-align:center;\">15</td><td  style=\"text-align:center;\">0</td><td  style=\"text-align:center;\">0</td><td  style=\"text-align:center;\">0</td><td  style=\"text-align:center;\">0</td><td  style=\"text-align:center;\">0</td><td  style=\"text-align:center;\">0</td><td  style=\"text-align:center;\">0</td><td  style=\"background-color:lightYellow;text-align:center;\">1</td><td  style=\"text-align:center;\">0</td><td  style=\"background-color:lightYellow;text-align:center;\">1</td><td  style=\"text-align:center;\">0</td><td  style=\"text-align:center;\">0</td><td  style=\"text-align:center;\">0</td><td  style=\"text-align:center;\">0</td><td  style=\"text-align:center;\">0</td><td  style=\"text-align:center;\">0</td><td  style=\"background-color:lightYellow;text-align:center;\">8</td><td  style=\"text-align:center;\">0</td><td  style=\"background-color:lightGreen;text-align:center;width:80px;\">43</td><td  style=\"text-align:center;\">0</td><td  style=\"text-align:center;\">0</td></tr><tr><td  style=\"background-color:lightGray;text-align:center;\">rowing</td><td  style=\"text-align:center;\">0</td><td  style=\"text-align:center;\">0</td><td  style=\"text-align:center;\">0</td><td  style=\"text-align:center;\">0</td><td  style=\"text-align:center;\">0</td><td  style=\"text-align:center;\">0</td><td  style=\"text-align:center;\">0</td><td  style=\"text-align:center;\">0</td><td  style=\"text-align:center;\">0</td><td  style=\"text-align:center;\">0</td><td  style=\"text-align:center;\">0</td><td  style=\"text-align:center;\">0</td><td  style=\"text-align:center;\">0</td><td  style=\"text-align:center;\">0</td><td  style=\"text-align:center;\">0</td><td  style=\"text-align:center;\">0</td><td  style=\"text-align:center;\">0</td><td  style=\"text-align:center;\">0</td><td  style=\"text-align:center;\">0</td><td  style=\"text-align:center;\">0</td><td  style=\"text-align:center;\">0</td><td  style=\"text-align:center;\">0</td><td  style=\"text-align:center;\">0</td><td  style=\"text-align:center;\">0</td><td  style=\"text-align:center;\">0</td><td  style=\"text-align:center;\">0</td><td  style=\"text-align:center;\">0</td><td  style=\"background-color:lightGreen;text-align:center;width:80px;\">0</td><td  style=\"text-align:center;\">0</td></tr><tr><td  style=\"background-color:lightGray;text-align:center;\">dumbbell-biceps-curl</td><td  style=\"text-align:center;\">0</td><td  style=\"background-color:lightYellow;text-align:center;\">11</td><td  style=\"text-align:center;\">0</td><td  style=\"text-align:center;\">0</td><td  style=\"background-color:Pink;text-align:center;\">23</td><td  style=\"text-align:center;\">0</td><td  style=\"text-align:center;\">0</td><td  style=\"text-align:center;\">0</td><td  style=\"text-align:center;\">0</td><td  style=\"text-align:center;\">0</td><td  style=\"text-align:center;\">0</td><td  style=\"text-align:center;\">0</td><td  style=\"text-align:center;\">0</td><td  style=\"text-align:center;\">0</td><td  style=\"background-color:lightYellow;text-align:center;\">2</td><td  style=\"text-align:center;\">0</td><td  style=\"text-align:center;\">0</td><td  style=\"text-align:center;\">0</td><td  style=\"background-color:Pink;text-align:center;\">58</td><td  style=\"text-align:center;\">0</td><td  style=\"text-align:center;\">0</td><td  style=\"text-align:center;\">0</td><td  style=\"text-align:center;\">0</td><td  style=\"background-color:Pink;text-align:center;\">45</td><td  style=\"background-color:lightYellow;text-align:center;\">1</td><td  style=\"text-align:center;\">0</td><td  style=\"text-align:center;\">0</td><td  style=\"text-align:center;\">0</td><td  style=\"background-color:lightGreen;text-align:center;width:80px;\">0</td></tr></table>"
      ],
      "text/plain": [
       "<ipy_table.IpyTable at 0x1241d0c90>"
      ]
     },
     "execution_count": 54,
     "metadata": {},
     "output_type": "execute_result"
    }
   ],
   "source": [
    "from sklearn.metrics import confusion_matrix\n",
    "from ipy_table import *\n",
    "\n",
    "# confusion_matrix(y_true, y_pred)\n",
    "predicted, actual = model.predict_fullset(dataset, \"test\")\n",
    "\n",
    "y_pred = np.argmax(predicted.asnumpyarray(), axis = 0) \n",
    "y_true = np.argmax(actual.asnumpyarray(), axis = 0) \n",
    "\n",
    "confusion_mat = confusion_matrix(y_true, y_pred, range(0,dataset.num_labels))\n",
    "\n",
    "# Fiddle around with cm to get it into table shape\n",
    "confusion_mat = vstack((np.zeros((1,dataset.num_labels), dtype=int), confusion_mat))\n",
    "confusion_mat = hstack((np.zeros((dataset.num_labels + 1, 1), dtype=int), confusion_mat))\n",
    "\n",
    "table = confusion_mat.tolist()\n",
    "\n",
    "human_labels = map(dataset.human_label_for, range(0,dataset.num_labels))\n",
    "\n",
    "for i,s in enumerate(human_labels):\n",
    "    table[0][i+1] = s\n",
    "    table[i+1][0] = s\n",
    "\n",
    "table[0][0] = \"actual \\ predicted\"\n",
    "\n",
    "mt = make_table(table)\n",
    "set_row_style(0, color='lightGray', rotate = \"315deg\")\n",
    "set_column_style(0, color='lightGray')\n",
    "set_global_style(align='center')\n",
    "\n",
    "for i in range(1, dataset.num_labels + 1):\n",
    "    for j in range(1, dataset.num_labels + 1):\n",
    "        if i == j:\n",
    "            set_cell_style(i,j, color='lightGreen', width = 80)\n",
    "        elif table[i][j] > 20:\n",
    "            set_cell_style(i,j, color='Pink')\n",
    "        elif table[i][j] > 0:\n",
    "            set_cell_style(i,j, color='lightYellow')\n",
    "mt"
   ]
  },
  {
   "cell_type": "code",
   "execution_count": null,
   "metadata": {
    "collapsed": true
   },
   "outputs": [],
   "source": []
  }
 ],
 "metadata": {
  "kernelspec": {
   "display_name": "Python 2",
   "language": "python",
   "name": "python2"
  },
  "language_info": {
   "codemirror_mode": {
    "name": "ipython",
    "version": 2
   },
   "file_extension": ".py",
   "mimetype": "text/x-python",
   "name": "python",
   "nbconvert_exporter": "python",
   "pygments_lexer": "ipython2",
   "version": "2.7.6"
  }
 },
 "nbformat": 4,
 "nbformat_minor": 0
}
